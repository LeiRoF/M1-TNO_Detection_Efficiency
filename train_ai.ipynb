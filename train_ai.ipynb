{
 "cells": [
  {
   "cell_type": "markdown",
   "metadata": {},
   "source": [
    "# Parameters"
   ]
  },
  {
   "cell_type": "code",
   "execution_count": 1,
   "metadata": {},
   "outputs": [],
   "source": [
    "subset_multiplier = 100 # increase the size of the subset by taking random composition of CCD\n",
    "epoch = 60              # number of epochs for each AI\n",
    "n = 25                  # number of loops for the genertic algorithm\n",
    "K = 3                   # number of folds (= number of independant AI per generation)\n",
    "\n",
    "train_prop = 0.7        # proportion of the dataset used for training\n",
    "\n",
    "weights = [7.686424453317564,2.8124992994763316,0.448360122048755,4.727911837705288] # not yet implemented"
   ]
  },
  {
   "cell_type": "markdown",
   "metadata": {},
   "source": [
    "# Import libs"
   ]
  },
  {
   "cell_type": "code",
   "execution_count": 2,
   "metadata": {},
   "outputs": [],
   "source": [
    "import os,sys\n",
    "import data_io\n",
    "import utils.archive as archive\n",
    "import numpy             as np\n",
    "import matplotlib.pyplot as plt\n",
    "import pandas            as pd\n",
    "import tensorflow        as tf\n",
    "from   IPython.display   import display\n",
    "from   tensorflow        import keras\n",
    "from   classes.block     import Block\n",
    "from   classes.triplet   import Triplet\n",
    "from   classes.shot      import Shot\n",
    "from   classes.ccd       import CCD"
   ]
  },
  {
   "cell_type": "markdown",
   "metadata": {},
   "source": [
    "# Definding the model"
   ]
  },
  {
   "cell_type": "code",
   "execution_count": 3,
   "metadata": {},
   "outputs": [],
   "source": [
    "def get_model(x_train):\n",
    "    # mse = tf.keras.losses.MeanSquaredError()\n",
    "    model = keras.models.Sequential()\n",
    "    model.add(keras.layers.Input((len(x_train[0]),), name=\"InputLayer\"))\n",
    "    model.add(keras.layers.Dense(64, activation='relu', name='Dense_n1'))\n",
    "    model.add(keras.layers.Dense(64, activation='relu', name='Dense_n2'))\n",
    "    model.add(keras.layers.Dense(64, activation='relu', name='Dense_n3'))\n",
    "    model.add(keras.layers.Dense(4, name='Output'))\n",
    "    model.compile(optimizer = 'adam', loss = 'mse', metrics = ['accuracy'])\n",
    "    return model"
   ]
  },
  {
   "cell_type": "markdown",
   "metadata": {},
   "source": [
    "# Functions for efficiency"
   ]
  },
  {
   "cell_type": "code",
   "execution_count": 4,
   "metadata": {},
   "outputs": [],
   "source": [
    "# tan\n",
    "def ft(m,a,b,c,d):\n",
    "    return a/4 * (1-np.tanh((m-b)/c)) * (1-np.tanh((m-b)/d))\n",
    "\n",
    "# square\n",
    "def fs(m,a,b,c,d):\n",
    "    return (a-b*(m-21)**2) / (1+np.exp((m-c)/d))\n",
    "\n",
    "# magnitude range\n",
    "m = np.linspace(21,25.5,1000)"
   ]
  },
  {
   "cell_type": "markdown",
   "metadata": {},
   "source": [
    "# Loading data and creating dataset"
   ]
  },
  {
   "cell_type": "code",
   "execution_count": 5,
   "metadata": {},
   "outputs": [
    {
     "name": "stdout",
     "output_type": "stream",
     "text": [
      "Loading 2013AE.json\n",
      "Loading 2013AO.json\n",
      "Loading 2013BL.json\n",
      "Loading 2015AM.json\n",
      "Loading 2015AP.json\n",
      "Loading 2015BS.json\n",
      "Loading 2015BT.json\n",
      "Loading 2015BD.json\n",
      "Loading 2014BH.json\n",
      "Loading 2015BC.json\n"
     ]
    }
   ],
   "source": [
    "# Loading data\n",
    "data_io.loadAll() # comment if already loaded to spare time\n",
    "\n",
    "# Formating data in data set usable by the AI\n",
    "data = data_io.get_ai_ready(func=\"tan\",subsets_per_block=subset_multiplier)\n",
    "\n",
    "# Normalization\n",
    "mean = data[:,:-4].mean()\n",
    "std  = data[:,:-4].std()\n",
    "data[:,:-4] = (data[:,:-4] - mean) / std"
   ]
  },
  {
   "cell_type": "markdown",
   "metadata": {},
   "source": [
    "# Training neural nework"
   ]
  },
  {
   "cell_type": "code",
   "execution_count": 6,
   "metadata": {},
   "outputs": [
    {
     "name": "stdout",
     "output_type": "stream",
     "text": [
      "🔁 Generation 1/25\n",
      "🔮 Prediction...odel  with fold 2 as test...\n",
      "1/1 [==============================] - 0s 78ms/step\n",
      "Prediction : [ 0.7008176  25.022007   -0.89964616  0.93146986]\n",
      "🔁 Generation 2/25\n",
      "WARNING:tensorflow:5 out of the last 13 calls to <function Model.make_test_function.<locals>.test_function at 0x00000145A3BCA440> triggered tf.function retracing. Tracing is expensive and the excessive number of tracings could be due to (1) creating @tf.function repeatedly in a loop, (2) passing tensors with different shapes, (3) passing Python objects instead of tensors. For (1), please define your @tf.function outside of the loop. For (2), @tf.function has reduce_retracing=True option that can avoid unnecessary retracing. For (3), please refer to https://www.tensorflow.org/guide/function#controlling_retracing and https://www.tensorflow.org/api_docs/python/tf/function for  more details.\n",
      "WARNING:tensorflow:5 out of the last 13 calls to <function Model.make_test_function.<locals>.test_function at 0x0000014592D21FC0> triggered tf.function retracing. Tracing is expensive and the excessive number of tracings could be due to (1) creating @tf.function repeatedly in a loop, (2) passing tensors with different shapes, (3) passing Python objects instead of tensors. For (1), please define your @tf.function outside of the loop. For (2), @tf.function has reduce_retracing=True option that can avoid unnecessary retracing. For (3), please refer to https://www.tensorflow.org/guide/function#controlling_retracing and https://www.tensorflow.org/api_docs/python/tf/function for  more details.\n",
      "🔮 Prediction...\n",
      "1/1 [==============================] - 0s 21ms/step\n",
      "Prediction : [ 0.77744675 24.975908   -0.7293136   0.9409148 ]\n",
      "🔁 Generation 3/25\n",
      "🔮 Prediction...odel  with fold 2 as test...\n",
      "1/1 [==============================] - 0s 49ms/step\n",
      "Prediction : [ 0.88410383 25.149595   -0.40192643  0.60419124]\n",
      "🔁 Generation 4/25\n",
      "🔮 Prediction...odel  with fold 2 as test...\n",
      "1/1 [==============================] - 0s 47ms/step\n",
      "Prediction : [ 1.1824626  25.172787   -0.26600245  0.5722367 ]\n",
      "🔁 Generation 5/25\n",
      "🔮 Prediction...odel  with fold 2 as test...\n",
      "1/1 [==============================] - 0s 47ms/step\n",
      "Prediction : [ 0.47560313 25.397284   -0.36280364  0.74492735]\n",
      "🔁 Generation 6/25\n",
      "🔮 Prediction...odel  with fold 2 as test...\n",
      "WARNING:tensorflow:5 out of the last 6 calls to <function Model.make_predict_function.<locals>.predict_function at 0x00000145AD5205E0> triggered tf.function retracing. Tracing is expensive and the excessive number of tracings could be due to (1) creating @tf.function repeatedly in a loop, (2) passing tensors with different shapes, (3) passing Python objects instead of tensors. For (1), please define your @tf.function outside of the loop. For (2), @tf.function has reduce_retracing=True option that can avoid unnecessary retracing. For (3), please refer to https://www.tensorflow.org/guide/function#controlling_retracing and https://www.tensorflow.org/api_docs/python/tf/function for  more details.\n",
      "1/1 [==============================] - 0s 51ms/step\n",
      "Prediction : [ 0.74507123 24.866152    0.23430265  1.0584391 ]\n",
      "🔁 Generation 7/25\n",
      "🔮 Prediction...odel  with fold 2 as test...\n",
      "1/1 [==============================] - 0s 18ms/step\n",
      "Prediction : [ 0.7323864  24.963566    0.22093077  1.0200133 ]\n",
      "🔁 Generation 8/25\n",
      "🔮 Prediction...odel  with fold 2 as test...\n",
      "1/1 [==============================] - 0s 18ms/step\n",
      "Prediction : [ 0.7152925  24.893925    0.24524386  1.0624332 ]\n",
      "🔁 Generation 9/25\n",
      "🔮 Prediction...odel  with fold 2 as test...\n",
      "1/1 [==============================] - 0s 19ms/step\n",
      "Prediction : [ 0.71092206 25.026102    0.25852203  1.0548204 ]\n",
      "🔁 Generation 10/25\n",
      "🔮 Prediction...odel  with fold 2 as test...\n",
      "1/1 [==============================] - 0s 16ms/step\n",
      "Prediction : [ 0.70060474 24.98967     0.24587746  1.0364575 ]\n",
      "🔁 Generation 11/25\n",
      "🔮 Prediction...odel  with fold 2 as test...\n",
      "1/1 [==============================] - 0s 16ms/step\n",
      "Prediction : [ 0.7419959  24.956985    0.21995766  1.0357339 ]\n",
      "🔁 Generation 12/25\n",
      "🔮 Prediction...odel  with fold 2 as test...\n",
      "1/1 [==============================] - 0s 19ms/step\n",
      "Prediction : [ 0.75740224 24.91182     0.21191408  1.0503801 ]\n",
      "🔁 Generation 13/25\n",
      "🔮 Prediction...odel  with fold 2 as test...\n",
      "1/1 [==============================] - 0s 16ms/step\n",
      "Prediction : [ 0.7636059  24.930098    0.22935285  1.0455502 ]\n",
      "🔁 Generation 14/25\n",
      "🔮 Prediction...odel  with fold 2 as test...\n",
      "1/1 [==============================] - 0s 17ms/step\n",
      "Prediction : [ 0.7882648 24.877785   0.2098474  1.0699539]\n",
      "🔁 Generation 15/25\n",
      "🔮 Prediction...odel  with fold 2 as test...\n",
      "1/1 [==============================] - 0s 17ms/step\n",
      "Prediction : [ 0.6484094 25.06365    0.2890734  1.085158 ]\n",
      "🔁 Generation 16/25\n",
      "🔮 Prediction...odel  with fold 2 as test...\n",
      "1/1 [==============================] - 0s 16ms/step\n",
      "Prediction : [ 0.748859   24.980095    0.22037657  1.028518  ]\n",
      "🔁 Generation 17/25\n",
      "🔮 Prediction...odel  with fold 2 as test...\n",
      "1/1 [==============================] - 0s 19ms/step\n",
      "Prediction : [ 0.7391644  24.988081    0.22566958  1.018061  ]\n",
      "🔁 Generation 18/25\n",
      "🔮 Prediction...odel  with fold 2 as test...\n",
      "1/1 [==============================] - 0s 18ms/step\n",
      "Prediction : [ 0.7787977  24.884195    0.21078272  1.0425861 ]\n",
      "🔁 Generation 19/25\n",
      "🔮 Prediction...odel  with fold 2 as test...\n",
      "1/1 [==============================] - 0s 17ms/step\n",
      "Prediction : [ 0.7492359  24.94326     0.22529818  1.0465647 ]\n",
      "🔁 Generation 20/25\n",
      "🔮 Prediction...odel  with fold 2 as test...\n",
      "1/1 [==============================] - 0s 17ms/step\n",
      "Prediction : [ 0.815636   24.85743     0.17830618  1.0098275 ]\n",
      "🔁 Generation 21/25\n",
      "🔮 Prediction...odel  with fold 2 as test...\n",
      "1/1 [==============================] - 0s 17ms/step\n",
      "Prediction : [ 0.7532268  24.92362     0.18862869  1.0386745 ]\n",
      "🔁 Generation 22/25\n",
      "🔮 Prediction...odel  with fold 2 as test...\n",
      "1/1 [==============================] - 0s 48ms/step\n",
      "Prediction : [ 0.7476414  25.25198    -0.17796844  0.8989483 ]\n",
      "🔁 Generation 23/25\n",
      "🔮 Prediction...odel  with fold 2 as test...\n",
      "1/1 [==============================] - 0s 16ms/step\n",
      "Prediction : [ 0.8478158  25.255787   -0.27186435  0.9161984 ]\n",
      "🔁 Generation 24/25\n",
      "🔮 Prediction...odel  with fold 2 as test...\n",
      "1/1 [==============================] - 0s 16ms/step\n",
      "Prediction : [ 0.75173837 25.292442   -0.21225208  0.89632237]\n",
      "🔁 Generation 25/25\n",
      "🔮 Prediction...odel  with fold 2 as test...\n",
      "1/1 [==============================] - 0s 55ms/step\n",
      "Prediction : [ 0.8029343 24.459848   0.0360851  0.9472824]\n"
     ]
    },
    {
     "name": "stderr",
     "output_type": "stream",
     "text": [
      "WARNING:absl:Function `_wrapped_model` contains input name(s) InputLayer with unsupported characters which will be renamed to inputlayer in the SavedModel.\n"
     ]
    },
    {
     "name": "stdout",
     "output_type": "stream",
     "text": [
      "INFO:tensorflow:Assets written to: ./archives/2022-06-15_9fda6dc/5_M=100,N=25,K=3,E=60/model.ckpt\\assets\n"
     ]
    },
    {
     "name": "stderr",
     "output_type": "stream",
     "text": [
      "INFO:tensorflow:Assets written to: ./archives/2022-06-15_9fda6dc/5_M=100,N=25,K=3,E=60/model.ckpt\\assets\n"
     ]
    },
    {
     "data": {
      "image/png": "[encoded data removed]",
      "text/plain": [
       "<Figure size 432x288 with 25 Axes>"
      ]
     },
     "metadata": {
      "needs_background": "light"
     },
     "output_type": "display_data"
    }
   ],
   "source": [
    "model = None\n",
    "minScore = None\n",
    "path = archive.new(name = archive.description(M = subset_multiplier, N = n, K = K, E = epoch))\n",
    "output = open(f\"{path}/ouput.csv\",\"w\")\n",
    "\n",
    "output.write(\"Generation, \")\n",
    "for j in np.arange(K): output.write(f\"Score of model {j}, \")\n",
    "output.write(\"Average, Score retained\\n\")\n",
    "\n",
    "# Loop over generations (genetic algorithm)\n",
    "for i in range(n):\n",
    "  \n",
    "  print(f\"🔁 Generation {i+1}/{n}\")\n",
    "\n",
    "  # Shuffling data and creating folds\n",
    "  np.random.shuffle(data)\n",
    "\n",
    "  folds = []\n",
    "  for j in range(K):\n",
    "    folds.append(data[j::K])\n",
    "\n",
    "################################################################################\n",
    "  # Splitting data for training and test...\n",
    "\n",
    "  x_train = []; y_train = []; x_test = []; y_test = []\n",
    "  for j, fold in enumerate(folds):\n",
    "    train_sets = int(len(fold)*train_prop)\n",
    "    index = np.zeros(len(fold),dtype=bool)\n",
    "    index[:train_sets] = True\n",
    "    np.random.shuffle(index)\n",
    "\n",
    "    data_train = fold[index]\n",
    "    data_test  = fold[~index]\n",
    "\n",
    "    x_train.append(data_train[:,:-4])\n",
    "    y_train.append(data_train[:,-4:])\n",
    "    x_test.append(data_test [:,:-4])\n",
    "    y_test.append(data_test [:,-4:])\n",
    "  \n",
    "  x_train = np.array(x_train); y_train = np.array(y_train); x_test = np.array(x_test); y_test = np.array(y_test)\n",
    "\n",
    "  ################################################################################\n",
    "  # Training K models independently\n",
    "\n",
    "  models = []; history = []; scores = []\n",
    "  for j in range(K):\n",
    "    X = np.concatenate(x_train[np.arange(len(x_train))!=j])\n",
    "    Y = np.concatenate(y_train[np.arange(len(y_train))!=j])\n",
    "\n",
    "    if len(models) < j+1: models.append(get_model(X))\n",
    "    else: models.append(model)\n",
    "\n",
    "    print(f\"🏃‍♀️ Training model  with fold {j} as test...\", end=\"\\r\")\n",
    "\n",
    "    history.append(models[j].fit(X, Y, epochs = epoch, verbose = 0))#, validation_data = (x_test[j], y_test[j])))\n",
    "\n",
    "    scores.append(models[j].evaluate(x_test[j], y_test[j], verbose=0))\n",
    "\n",
    "  output.write(f\"{i+1}, \")\n",
    "  if minScore is None: minScore = scores[0][0]\n",
    "  if model is None: model = models[0]\n",
    "  average = 0\n",
    "  for j,s in enumerate(scores):\n",
    "    output.write(f\"{s[0]}, \") \n",
    "    average += s[0]/K\n",
    "    if s[0] < minScore:\n",
    "      minScore = s[0]\n",
    "      model = models[j]\n",
    "  output.write(f\"{average}, {minScore}\\n\")\n",
    "\n",
    "  ################################################################################\n",
    "  # Making new prediction\n",
    "\n",
    "  print(\"🔮 Prediction...\")\n",
    "  \n",
    "  new_data = Block.all[\"2015BD\"].to_ai_ready(func=\"square\")\n",
    "\n",
    "  new_x = new_data[:-4]\n",
    "  new_y = new_data[-4:]\n",
    "  new_x = (new_x - mean) / std\n",
    "\n",
    "  new_x=np.array(new_x).reshape(1,len(new_x))\n",
    "\n",
    "  predictions = model.predict(new_x)\n",
    "  print(f\"Prediction : {predictions[0]}\")\n",
    "\n",
    "  ################################################################################\n",
    "  # Plotting the result\n",
    "\n",
    "  plt.subplot(int(np.ceil(np.sqrt(n))),int(np.ceil(np.sqrt(n))),i+1)\n",
    "  plt.plot(m,ft(m,*predictions[0]), label=\"Machine Learning\")\n",
    "  plt.plot(m,fs(m,new_y[0],new_y[1],new_y[2],new_y[3]), label=\"Excpected\")\n",
    "  if i == 0: plt.title(\"TNO detection rate\")\n",
    "  if i+1>n-np.ceil(np.sqrt(n)):    plt.xlabel(\"Magnitude\")\n",
    "  if i%np.ceil(np.sqrt(n))==0: plt.ylabel(\"Efficiency\")\n",
    "  plt.grid()\n",
    "  if i==0: plt.legend()\n",
    "\n",
    "################################################################################\n",
    "# Saving results\n",
    "\n",
    "output.close()\n",
    "plt.savefig(f\"{path}/tno_efficiency_rate.png\")\n",
    "model.save(f\"{path}/model.ckpt\")\n",
    "plt.show()"
   ]
  }
 ],
 "metadata": {
  "kernelspec": {
   "display_name": "Python 3.10.5 64-bit (windows store)",
   "language": "python",
   "name": "python3"
  },
  "language_info": {
   "codemirror_mode": {
    "name": "ipython",
    "version": 3
   },
   "file_extension": ".py",
   "mimetype": "text/x-python",
   "name": "python",
   "nbconvert_exporter": "python",
   "pygments_lexer": "ipython3",
   "version": "3.10.5"
  },
  "orig_nbformat": 4,
  "vscode": {
   "interpreter": {
    "hash": "e0d398e7c3cc3d2b8386dfea47f5eae3378d5d39db7e2c8ef87e93246db0bfd2"
   }
  }
 },
 "nbformat": 4,
 "nbformat_minor": 2
}
