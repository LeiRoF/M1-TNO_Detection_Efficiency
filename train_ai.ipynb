{
 "cells": [
  {
   "cell_type": "markdown",
   "metadata": {
    "tags": []
   },
   "source": [
    "## Step 1 - Import and init\n",
    "\n",
    "You can also adjust the verbosity by changing the value of TF_CPP_MIN_LOG_LEVEL :\n",
    "- 0 = all messages are logged (default)\n",
    "- 1 = INFO messages are not printed.\n",
    "- 2 = INFO and WARNING messages are not printed.\n",
    "- 3 = INFO , WARNING and ERROR messages are not printed."
   ]
  },
  {
   "cell_type": "code",
   "execution_count": 323,
   "metadata": {},
   "outputs": [],
   "source": [
    "# import os\n",
    "# os.environ['TF_CPP_MIN_LOG_LEVEL'] = '2'\n",
    "\n",
    "from IPython.display import display\n",
    "\n",
    "import tensorflow as tf\n",
    "from tensorflow import keras\n",
    "\n",
    "import numpy as np\n",
    "import matplotlib.pyplot as plt\n",
    "import pandas as pd\n",
    "import os,sys\n",
    "\n",
    "# sys.path.append('..')\n",
    "# import fidle.pwk as pwk\n",
    "\n",
    "import data_io\n",
    "from classes.block import Block\n",
    "from classes.triplet import Triplet\n",
    "from classes.shot import Shot\n",
    "from classes.ccd import CCD\n",
    "\n",
    "# datasets_dir = pwk.init('BHPD1')"
   ]
  },
  {
   "cell_type": "markdown",
   "metadata": {},
   "source": [
    "Verbosity during training : \n",
    "- 0 = silent\n",
    "- 1 = progress bar\n",
    "- 2 = one line per epoch"
   ]
  },
  {
   "cell_type": "code",
   "execution_count": 324,
   "metadata": {},
   "outputs": [],
   "source": [
    "fit_verbosity = 1"
   ]
  },
  {
   "cell_type": "markdown",
   "metadata": {},
   "source": [
    "## Step 2 - Retrieve data"
   ]
  },
  {
   "cell_type": "code",
   "execution_count": 325,
   "metadata": {},
   "outputs": [
    {
     "name": "stdout",
     "output_type": "stream",
     "text": [
      "Block 2013AE is already loaded.\n",
      "Block 2013AO is already loaded.\n",
      "Block 2013BL is already loaded.\n",
      "Block 2015AM is already loaded.\n",
      "Block 2015AP is already loaded.\n",
      "Block 2015BS is already loaded.\n",
      "Block 2015BT is already loaded.\n",
      "Block 2015BD is already loaded.\n",
      "Block 2014BH is already loaded.\n",
      "Block 2015BC is already loaded.\n"
     ]
    }
   ],
   "source": [
    "data = data_io.get_ai_ready(func=\"tan\",subsets_per_block=1)"
   ]
  },
  {
   "cell_type": "markdown",
   "metadata": {},
   "source": [
    "## Step 3 - Preparing the data\n",
    "### 3.1 - Split data\n",
    "We will use 70% of the data for training and 30% for validation.  \n",
    "The dataset is **shuffled** and shared between **learning** and **testing**.  \n",
    "x will be input data and y the expected output"
   ]
  },
  {
   "cell_type": "code",
   "execution_count": 326,
   "metadata": {},
   "outputs": [
    {
     "name": "stdout",
     "output_type": "stream",
     "text": [
      "Original data shape was :  (9, 13828)\n",
      "x_train :  (6, 13824) y_train :  (6, 4)\n",
      "x_test  :  (3, 13824) y_test  :  (3, 4)\n"
     ]
    }
   ],
   "source": [
    "# ---- Shuffle and Split => train, test\n",
    "#\n",
    "\n",
    "train_prop = 0.7\n",
    "\n",
    "train_sets = int(len(data)*train_prop)\n",
    "\n",
    "index = np.zeros(len(data),dtype=bool)\n",
    "index[:train_sets] = True\n",
    "np.random.shuffle(index)\n",
    "\n",
    "data_train = data[index]\n",
    "data_test  = data[~index]\n",
    "\n",
    "x_train = data_train[:,:-4]\n",
    "y_train = data_train[:,-4:]\n",
    "x_test  = data_test[:,:-4]\n",
    "y_test  = data_test[:,-4:]\n",
    "\n",
    "print('Original data shape was : ',data.shape)\n",
    "print('x_train : ',x_train.shape, 'y_train : ',y_train.shape)\n",
    "print('x_test  : ',x_test.shape,  'y_test  : ',y_test.shape)"
   ]
  },
  {
   "cell_type": "markdown",
   "metadata": {
    "tags": []
   },
   "source": [
    "### 3.2 - Data normalization\n",
    "**Note :** \n",
    " - All input data must be normalized, train and test.  \n",
    " - To do this we will **subtract the mean** and **divide by the standard deviation**.  \n",
    " - But test data should not be used in any way, even for normalization.  \n",
    " - The mean and the standard deviation will therefore only be calculated with the train data."
   ]
  },
  {
   "cell_type": "code",
   "execution_count": 327,
   "metadata": {},
   "outputs": [],
   "source": [
    "# display(x_train.describe().style.format(\"{0:.2f}\").set_caption(\"Before normalization :\"))\n",
    "\n",
    "mean = x_train.mean()\n",
    "std  = x_train.std()\n",
    "x_train = (x_train - mean) / std\n",
    "x_test  = (x_test  - mean) / std\n",
    "\n",
    "# display(x_train.describe().style.format(\"{0:.2f}\").set_caption(\"After normalization :\"))\n",
    "# display(x_train.head(5).style.format(\"{0:.2f}\").set_caption(\"Few lines of the dataset :\"))\n",
    "\n",
    "x_train, y_train = np.array(x_train), np.array(y_train)\n",
    "x_test,  y_test  = np.array(x_test),  np.array(y_test)\n"
   ]
  },
  {
   "cell_type": "markdown",
   "metadata": {},
   "source": [
    "## Step 4 - Build a model\n",
    "About informations about : \n",
    " - [Optimizer](https://www.tensorflow.org/api_docs/python/tf/keras/optimizers)\n",
    " - [Activation](https://www.tensorflow.org/api_docs/python/tf/keras/activations)\n",
    " - [Loss](https://www.tensorflow.org/api_docs/python/tf/keras/losses)\n",
    " - [Metrics](https://www.tensorflow.org/api_docs/python/tf/keras/metrics)"
   ]
  },
  {
   "cell_type": "code",
   "execution_count": 328,
   "metadata": {},
   "outputs": [],
   "source": [
    "def get_model_v1(shape):\n",
    "  \n",
    "  model = keras.models.Sequential()\n",
    "  model.add(keras.layers.Input(shape, name=\"InputLayer\"))\n",
    "  model.add(keras.layers.Dense(64, activation='relu', name='Dense_n1'))\n",
    "  model.add(keras.layers.Dense(64, activation='relu', name='Dense_n2'))\n",
    "  model.add(keras.layers.Dense(64, activation='relu', name='Dense_n3'))\n",
    "  model.add(keras.layers.Dense(4, name='Output'))\n",
    "  \n",
    "  model.compile(optimizer = 'adam',\n",
    "                loss      = 'mse',\n",
    "                metrics   = ['mae', 'mse'] )\n",
    "  return model"
   ]
  },
  {
   "cell_type": "markdown",
   "metadata": {},
   "source": [
    "## Step 5 - Train the model\n",
    "### 5.1 - Get it"
   ]
  },
  {
   "cell_type": "code",
   "execution_count": 329,
   "metadata": {},
   "outputs": [
    {
     "name": "stdout",
     "output_type": "stream",
     "text": [
      "Model: \"sequential_23\"\n",
      "_________________________________________________________________\n",
      " Layer (type)                Output Shape              Param #   \n",
      "=================================================================\n",
      " Dense_n1 (Dense)            (None, 64)                884800    \n",
      "                                                                 \n",
      " Dense_n2 (Dense)            (None, 64)                4160      \n",
      "                                                                 \n",
      " Dense_n3 (Dense)            (None, 64)                4160      \n",
      "                                                                 \n",
      " Output (Dense)              (None, 4)                 260       \n",
      "                                                                 \n",
      "=================================================================\n",
      "Total params: 893,380\n",
      "Trainable params: 893,380\n",
      "Non-trainable params: 0\n",
      "_________________________________________________________________\n"
     ]
    }
   ],
   "source": [
    "model=get_model_v1( (len(x_train[0]),) )\n",
    "\n",
    "model.summary()\n",
    "\n",
    "# img=keras.utils.plot_model( model, to_file='./run/model.png', show_shapes=True, show_layer_names=True, dpi=96)\n",
    "# display(img)"
   ]
  },
  {
   "cell_type": "markdown",
   "metadata": {},
   "source": [
    "### 5.2 - Train it"
   ]
  },
  {
   "cell_type": "code",
   "execution_count": 330,
   "metadata": {},
   "outputs": [
    {
     "name": "stdout",
     "output_type": "stream",
     "text": [
      "Epoch 1/200\n",
      "1/1 [==============================] - 0s 365ms/step - loss: 157.2358 - mae: 6.8114 - mse: 157.2358 - val_loss: 81.8907 - val_mae: 6.0441 - val_mse: 81.8907\n",
      "Epoch 2/200\n",
      "1/1 [==============================] - 0s 22ms/step - loss: 93.3901 - mae: 5.8667 - mse: 93.3901 - val_loss: 22.9333 - val_mae: 3.6915 - val_mse: 22.9333\n",
      "Epoch 3/200\n",
      "1/1 [==============================] - 0s 21ms/step - loss: 33.9706 - mae: 3.8083 - mse: 33.9706 - val_loss: 13.6269 - val_mae: 2.6932 - val_mse: 13.6269\n",
      "Epoch 4/200\n",
      "1/1 [==============================] - 0s 22ms/step - loss: 3.5835 - mae: 1.4885 - mse: 3.5835 - val_loss: 59.3789 - val_mae: 4.6694 - val_mse: 59.3789\n",
      "Epoch 5/200\n",
      "1/1 [==============================] - 0s 21ms/step - loss: 10.5437 - mae: 2.1569 - mse: 10.5437 - val_loss: 95.5360 - val_mae: 5.7501 - val_mse: 95.5360\n",
      "Epoch 6/200\n",
      "1/1 [==============================] - 0s 22ms/step - loss: 24.7630 - mae: 3.0567 - mse: 24.7630 - val_loss: 90.1233 - val_mae: 6.4775 - val_mse: 90.1233\n",
      "Epoch 7/200\n",
      "1/1 [==============================] - 0s 22ms/step - loss: 24.2426 - mae: 3.6197 - mse: 24.2426 - val_loss: 59.0493 - val_mae: 5.7582 - val_mse: 59.0493\n",
      "Epoch 8/200\n",
      "1/1 [==============================] - 0s 21ms/step - loss: 13.5807 - mae: 3.1173 - mse: 13.5807 - val_loss: 32.1414 - val_mae: 4.4509 - val_mse: 32.1414\n",
      "Epoch 9/200\n",
      "1/1 [==============================] - 0s 23ms/step - loss: 6.0684 - mae: 2.1724 - mse: 6.0684 - val_loss: 16.1382 - val_mae: 3.0477 - val_mse: 16.1382\n",
      "Epoch 10/200\n",
      "1/1 [==============================] - 0s 22ms/step - loss: 2.7537 - mae: 1.4151 - mse: 2.7537 - val_loss: 9.7920 - val_mae: 1.8017 - val_mse: 9.7920\n",
      "Epoch 11/200\n",
      "1/1 [==============================] - 0s 24ms/step - loss: 2.8822 - mae: 0.8988 - mse: 2.8822 - val_loss: 11.4941 - val_mae: 2.5760 - val_mse: 11.4941\n",
      "Epoch 12/200\n",
      "1/1 [==============================] - 0s 22ms/step - loss: 5.6263 - mae: 1.9422 - mse: 5.6263 - val_loss: 15.9648 - val_mae: 3.3761 - val_mse: 15.9648\n",
      "Epoch 13/200\n",
      "1/1 [==============================] - 0s 20ms/step - loss: 8.3051 - mae: 2.6050 - mse: 8.3051 - val_loss: 18.3474 - val_mae: 3.6645 - val_mse: 18.3474\n",
      "Epoch 14/200\n",
      "1/1 [==============================] - 0s 22ms/step - loss: 8.4694 - mae: 2.6395 - mse: 8.4694 - val_loss: 17.4663 - val_mae: 3.3838 - val_mse: 17.4663\n",
      "Epoch 15/200\n",
      "1/1 [==============================] - 0s 21ms/step - loss: 5.6039 - mae: 2.0480 - mse: 5.6039 - val_loss: 16.4683 - val_mae: 2.7195 - val_mse: 16.4683\n",
      "Epoch 16/200\n",
      "1/1 [==============================] - 0s 22ms/step - loss: 2.3186 - mae: 1.1651 - mse: 2.3186 - val_loss: 17.7312 - val_mae: 2.4886 - val_mse: 17.7312\n",
      "Epoch 17/200\n",
      "1/1 [==============================] - 0s 21ms/step - loss: 0.9147 - mae: 0.7356 - mse: 0.9147 - val_loss: 21.2819 - val_mae: 3.0801 - val_mse: 21.2819\n",
      "Epoch 18/200\n",
      "1/1 [==============================] - 0s 21ms/step - loss: 1.6264 - mae: 1.1186 - mse: 1.6264 - val_loss: 25.6573 - val_mae: 3.6888 - val_mse: 25.6573\n",
      "Epoch 19/200\n",
      "1/1 [==============================] - 0s 21ms/step - loss: 2.9948 - mae: 1.5811 - mse: 2.9948 - val_loss: 28.1484 - val_mae: 3.8439 - val_mse: 28.1484\n",
      "Epoch 20/200\n",
      "1/1 [==============================] - 0s 24ms/step - loss: 3.5122 - mae: 1.6568 - mse: 3.5122 - val_loss: 27.7646 - val_mae: 3.5660 - val_mse: 27.7646\n",
      "Epoch 21/200\n",
      "1/1 [==============================] - 0s 20ms/step - loss: 2.8823 - mae: 1.3540 - mse: 2.8823 - val_loss: 25.3311 - val_mae: 3.0681 - val_mse: 25.3311\n",
      "Epoch 22/200\n",
      "1/1 [==============================] - 0s 24ms/step - loss: 1.9475 - mae: 0.9327 - mse: 1.9475 - val_loss: 21.9780 - val_mae: 2.7858 - val_mse: 21.9780\n",
      "Epoch 23/200\n",
      "1/1 [==============================] - 0s 28ms/step - loss: 1.2835 - mae: 0.8953 - mse: 1.2835 - val_loss: 18.5054 - val_mae: 2.4956 - val_mse: 18.5054\n",
      "Epoch 24/200\n",
      "1/1 [==============================] - 0s 23ms/step - loss: 1.1124 - mae: 0.8537 - mse: 1.1124 - val_loss: 15.3807 - val_mae: 2.4469 - val_mse: 15.3807\n",
      "Epoch 25/200\n",
      "1/1 [==============================] - 0s 24ms/step - loss: 1.2947 - mae: 0.9251 - mse: 1.2947 - val_loss: 12.8886 - val_mae: 2.2992 - val_mse: 12.8886\n",
      "Epoch 26/200\n",
      "1/1 [==============================] - 0s 27ms/step - loss: 1.5625 - mae: 0.9457 - mse: 1.5625 - val_loss: 11.5714 - val_mae: 2.1430 - val_mse: 11.5714\n",
      "Epoch 27/200\n",
      "1/1 [==============================] - 0s 24ms/step - loss: 1.7525 - mae: 0.8773 - mse: 1.7525 - val_loss: 11.6012 - val_mae: 2.2141 - val_mse: 11.6012\n",
      "Epoch 28/200\n",
      "1/1 [==============================] - 0s 22ms/step - loss: 1.6870 - mae: 0.8083 - mse: 1.6870 - val_loss: 12.7828 - val_mae: 2.3545 - val_mse: 12.7828\n",
      "Epoch 29/200\n",
      "1/1 [==============================] - 0s 21ms/step - loss: 1.3633 - mae: 0.8180 - mse: 1.3633 - val_loss: 14.9441 - val_mae: 2.4497 - val_mse: 14.9441\n",
      "Epoch 30/200\n",
      "1/1 [==============================] - 0s 23ms/step - loss: 0.9988 - mae: 0.7714 - mse: 0.9988 - val_loss: 17.5062 - val_mae: 2.4539 - val_mse: 17.5062\n",
      "Epoch 31/200\n",
      "1/1 [==============================] - 0s 23ms/step - loss: 0.8285 - mae: 0.6940 - mse: 0.8285 - val_loss: 19.8778 - val_mae: 2.5257 - val_mse: 19.8778\n",
      "Epoch 32/200\n",
      "1/1 [==============================] - 0s 23ms/step - loss: 0.8945 - mae: 0.6158 - mse: 0.8945 - val_loss: 21.1950 - val_mae: 2.6232 - val_mse: 21.1950\n",
      "Epoch 33/200\n",
      "1/1 [==============================] - 0s 22ms/step - loss: 1.0385 - mae: 0.6088 - mse: 1.0385 - val_loss: 21.0327 - val_mae: 2.6977 - val_mse: 21.0327\n",
      "Epoch 34/200\n",
      "1/1 [==============================] - 0s 22ms/step - loss: 1.1037 - mae: 0.6607 - mse: 1.1037 - val_loss: 19.5995 - val_mae: 2.6541 - val_mse: 19.5995\n",
      "Epoch 35/200\n",
      "1/1 [==============================] - 0s 24ms/step - loss: 1.0528 - mae: 0.7126 - mse: 1.0528 - val_loss: 17.5392 - val_mae: 2.5131 - val_mse: 17.5392\n",
      "Epoch 36/200\n",
      "1/1 [==============================] - 0s 22ms/step - loss: 0.9277 - mae: 0.7124 - mse: 0.9277 - val_loss: 15.5103 - val_mae: 2.3251 - val_mse: 15.5103\n",
      "Epoch 37/200\n",
      "1/1 [==============================] - 0s 25ms/step - loss: 0.7790 - mae: 0.6597 - mse: 0.7790 - val_loss: 14.0175 - val_mae: 2.1362 - val_mse: 14.0175\n",
      "Epoch 38/200\n",
      "1/1 [==============================] - 0s 22ms/step - loss: 0.6644 - mae: 0.5399 - mse: 0.6644 - val_loss: 13.3564 - val_mae: 2.0061 - val_mse: 13.3564\n",
      "Epoch 39/200\n",
      "1/1 [==============================] - 0s 23ms/step - loss: 0.6560 - mae: 0.5158 - mse: 0.6560 - val_loss: 13.3718 - val_mae: 2.0584 - val_mse: 13.3718\n",
      "Epoch 40/200\n",
      "1/1 [==============================] - 0s 23ms/step - loss: 0.7439 - mae: 0.5747 - mse: 0.7439 - val_loss: 13.6490 - val_mae: 2.1671 - val_mse: 13.6490\n",
      "Epoch 41/200\n",
      "1/1 [==============================] - 0s 23ms/step - loss: 0.8175 - mae: 0.6128 - mse: 0.8175 - val_loss: 13.8608 - val_mae: 2.1921 - val_mse: 13.8608\n",
      "Epoch 42/200\n",
      "1/1 [==============================] - 0s 22ms/step - loss: 0.7876 - mae: 0.6309 - mse: 0.7876 - val_loss: 13.9731 - val_mae: 2.1637 - val_mse: 13.9731\n",
      "Epoch 43/200\n",
      "1/1 [==============================] - 0s 22ms/step - loss: 0.6792 - mae: 0.5922 - mse: 0.6792 - val_loss: 14.1513 - val_mae: 2.1622 - val_mse: 14.1513\n",
      "Epoch 44/200\n",
      "1/1 [==============================] - 0s 22ms/step - loss: 0.5814 - mae: 0.5410 - mse: 0.5814 - val_loss: 14.5266 - val_mae: 2.1903 - val_mse: 14.5266\n",
      "Epoch 45/200\n",
      "1/1 [==============================] - 0s 25ms/step - loss: 0.5497 - mae: 0.4786 - mse: 0.5497 - val_loss: 15.0626 - val_mae: 2.2869 - val_mse: 15.0626\n",
      "Epoch 46/200\n",
      "1/1 [==============================] - 0s 22ms/step - loss: 0.5771 - mae: 0.4936 - mse: 0.5771 - val_loss: 15.5634 - val_mae: 2.3328 - val_mse: 15.5634\n",
      "Epoch 47/200\n",
      "1/1 [==============================] - 0s 23ms/step - loss: 0.6208 - mae: 0.5208 - mse: 0.6208 - val_loss: 15.7682 - val_mae: 2.3145 - val_mse: 15.7682\n",
      "Epoch 48/200\n",
      "1/1 [==============================] - 0s 24ms/step - loss: 0.6350 - mae: 0.5536 - mse: 0.6350 - val_loss: 15.4945 - val_mae: 2.2637 - val_mse: 15.4945\n",
      "Epoch 49/200\n",
      "1/1 [==============================] - 0s 25ms/step - loss: 0.5999 - mae: 0.5423 - mse: 0.5999 - val_loss: 14.7560 - val_mae: 2.1675 - val_mse: 14.7560\n",
      "Epoch 50/200\n",
      "1/1 [==============================] - 0s 25ms/step - loss: 0.5359 - mae: 0.4923 - mse: 0.5359 - val_loss: 13.7710 - val_mae: 2.0822 - val_mse: 13.7710\n",
      "Epoch 51/200\n",
      "1/1 [==============================] - 0s 23ms/step - loss: 0.4873 - mae: 0.4286 - mse: 0.4873 - val_loss: 12.8515 - val_mae: 2.0350 - val_mse: 12.8515\n",
      "Epoch 52/200\n",
      "1/1 [==============================] - 0s 24ms/step - loss: 0.4844 - mae: 0.4134 - mse: 0.4844 - val_loss: 12.2581 - val_mae: 2.0067 - val_mse: 12.2581\n",
      "Epoch 53/200\n",
      "1/1 [==============================] - 0s 25ms/step - loss: 0.5158 - mae: 0.4444 - mse: 0.5158 - val_loss: 12.1003 - val_mae: 2.0155 - val_mse: 12.1003\n",
      "Epoch 54/200\n",
      "1/1 [==============================] - 0s 25ms/step - loss: 0.5379 - mae: 0.4725 - mse: 0.5379 - val_loss: 12.3008 - val_mae: 2.0275 - val_mse: 12.3008\n",
      "Epoch 55/200\n",
      "1/1 [==============================] - 0s 24ms/step - loss: 0.5203 - mae: 0.4769 - mse: 0.5203 - val_loss: 12.7232 - val_mae: 2.0364 - val_mse: 12.7232\n",
      "Epoch 56/200\n",
      "1/1 [==============================] - 0s 24ms/step - loss: 0.4771 - mae: 0.4570 - mse: 0.4771 - val_loss: 13.2061 - val_mae: 2.0684 - val_mse: 13.2061\n",
      "Epoch 57/200\n",
      "1/1 [==============================] - 0s 23ms/step - loss: 0.4449 - mae: 0.4224 - mse: 0.4449 - val_loss: 13.5538 - val_mae: 2.1045 - val_mse: 13.5538\n",
      "Epoch 58/200\n",
      "1/1 [==============================] - 0s 27ms/step - loss: 0.4399 - mae: 0.4035 - mse: 0.4399 - val_loss: 13.6427 - val_mae: 2.1443 - val_mse: 13.6427\n",
      "Epoch 59/200\n",
      "1/1 [==============================] - 0s 31ms/step - loss: 0.4516 - mae: 0.4144 - mse: 0.4516 - val_loss: 13.4720 - val_mae: 2.1506 - val_mse: 13.4720\n",
      "Epoch 60/200\n",
      "1/1 [==============================] - 0s 29ms/step - loss: 0.4618 - mae: 0.4362 - mse: 0.4618 - val_loss: 13.1353 - val_mae: 2.1210 - val_mse: 13.1353\n",
      "Epoch 61/200\n",
      "1/1 [==============================] - 0s 29ms/step - loss: 0.4562 - mae: 0.4341 - mse: 0.4562 - val_loss: 12.7560 - val_mae: 2.0764 - val_mse: 12.7560\n",
      "Epoch 62/200\n",
      "1/1 [==============================] - 0s 28ms/step - loss: 0.4326 - mae: 0.4105 - mse: 0.4326 - val_loss: 12.4349 - val_mae: 2.0380 - val_mse: 12.4349\n",
      "Epoch 63/200\n",
      "1/1 [==============================] - 0s 28ms/step - loss: 0.4073 - mae: 0.3861 - mse: 0.4073 - val_loss: 12.2256 - val_mae: 2.0241 - val_mse: 12.2256\n",
      "Epoch 64/200\n",
      "1/1 [==============================] - 0s 29ms/step - loss: 0.3996 - mae: 0.3799 - mse: 0.3996 - val_loss: 12.0876 - val_mae: 2.0153 - val_mse: 12.0876\n",
      "Epoch 65/200\n",
      "1/1 [==============================] - 0s 28ms/step - loss: 0.4079 - mae: 0.4024 - mse: 0.4079 - val_loss: 11.9415 - val_mae: 2.0057 - val_mse: 11.9415\n",
      "Epoch 66/200\n",
      "1/1 [==============================] - 0s 27ms/step - loss: 0.4131 - mae: 0.4164 - mse: 0.4131 - val_loss: 11.7948 - val_mae: 1.9984 - val_mse: 11.7948\n",
      "Epoch 67/200\n",
      "1/1 [==============================] - 0s 26ms/step - loss: 0.4047 - mae: 0.4116 - mse: 0.4047 - val_loss: 11.7003 - val_mae: 1.9973 - val_mse: 11.7003\n",
      "Epoch 68/200\n",
      "1/1 [==============================] - 0s 28ms/step - loss: 0.3886 - mae: 0.3927 - mse: 0.3886 - val_loss: 11.7149 - val_mae: 2.0045 - val_mse: 11.7149\n",
      "Epoch 69/200\n",
      "1/1 [==============================] - 0s 25ms/step - loss: 0.3750 - mae: 0.3702 - mse: 0.3750 - val_loss: 11.8432 - val_mae: 2.0176 - val_mse: 11.8432\n",
      "Epoch 70/200\n",
      "1/1 [==============================] - 0s 25ms/step - loss: 0.3697 - mae: 0.3664 - mse: 0.3697 - val_loss: 12.0180 - val_mae: 2.0314 - val_mse: 12.0180\n",
      "Epoch 71/200\n",
      "1/1 [==============================] - 0s 25ms/step - loss: 0.3711 - mae: 0.3742 - mse: 0.3711 - val_loss: 12.1286 - val_mae: 2.0431 - val_mse: 12.1286\n",
      "Epoch 72/200\n",
      "1/1 [==============================] - 0s 24ms/step - loss: 0.3719 - mae: 0.3806 - mse: 0.3719 - val_loss: 12.0852 - val_mae: 2.0356 - val_mse: 12.0852\n",
      "Epoch 73/200\n",
      "1/1 [==============================] - 0s 25ms/step - loss: 0.3654 - mae: 0.3797 - mse: 0.3654 - val_loss: 11.8763 - val_mae: 2.0184 - val_mse: 11.8763\n",
      "Epoch 74/200\n",
      "1/1 [==============================] - 0s 25ms/step - loss: 0.3537 - mae: 0.3700 - mse: 0.3537 - val_loss: 11.5736 - val_mae: 2.0014 - val_mse: 11.5736\n",
      "Epoch 75/200\n",
      "1/1 [==============================] - 0s 25ms/step - loss: 0.3443 - mae: 0.3603 - mse: 0.3443 - val_loss: 11.2840 - val_mae: 1.9891 - val_mse: 11.2840\n",
      "Epoch 76/200\n",
      "1/1 [==============================] - 0s 25ms/step - loss: 0.3412 - mae: 0.3616 - mse: 0.3412 - val_loss: 11.0903 - val_mae: 1.9812 - val_mse: 11.0903\n",
      "Epoch 77/200\n",
      "1/1 [==============================] - 0s 26ms/step - loss: 0.3410 - mae: 0.3653 - mse: 0.3410 - val_loss: 11.0177 - val_mae: 1.9768 - val_mse: 11.0177\n",
      "Epoch 78/200\n",
      "1/1 [==============================] - 0s 26ms/step - loss: 0.3382 - mae: 0.3661 - mse: 0.3382 - val_loss: 11.0367 - val_mae: 1.9746 - val_mse: 11.0367\n",
      "Epoch 79/200\n",
      "1/1 [==============================] - 0s 24ms/step - loss: 0.3315 - mae: 0.3632 - mse: 0.3315 - val_loss: 11.0892 - val_mae: 1.9741 - val_mse: 11.0892\n",
      "Epoch 80/200\n",
      "1/1 [==============================] - 0s 25ms/step - loss: 0.3238 - mae: 0.3557 - mse: 0.3238 - val_loss: 11.1231 - val_mae: 1.9757 - val_mse: 11.1231\n",
      "Epoch 81/200\n",
      "1/1 [==============================] - 0s 26ms/step - loss: 0.3181 - mae: 0.3464 - mse: 0.3181 - val_loss: 11.1159 - val_mae: 1.9795 - val_mse: 11.1159\n",
      "Epoch 82/200\n",
      "1/1 [==============================] - 0s 26ms/step - loss: 0.3150 - mae: 0.3477 - mse: 0.3150 - val_loss: 11.0742 - val_mae: 1.9835 - val_mse: 11.0742\n",
      "Epoch 83/200\n",
      "1/1 [==============================] - 0s 26ms/step - loss: 0.3130 - mae: 0.3470 - mse: 0.3130 - val_loss: 11.0137 - val_mae: 1.9849 - val_mse: 11.0137\n",
      "Epoch 84/200\n",
      "1/1 [==============================] - 0s 27ms/step - loss: 0.3094 - mae: 0.3455 - mse: 0.3094 - val_loss: 10.9416 - val_mae: 1.9814 - val_mse: 10.9416\n",
      "Epoch 85/200\n",
      "1/1 [==============================] - 0s 25ms/step - loss: 0.3035 - mae: 0.3439 - mse: 0.3035 - val_loss: 10.8529 - val_mae: 1.9733 - val_mse: 10.8529\n",
      "Epoch 86/200\n",
      "1/1 [==============================] - 0s 26ms/step - loss: 0.2977 - mae: 0.3424 - mse: 0.2977 - val_loss: 10.7377 - val_mae: 1.9628 - val_mse: 10.7377\n",
      "Epoch 87/200\n",
      "1/1 [==============================] - 0s 25ms/step - loss: 0.2938 - mae: 0.3416 - mse: 0.2938 - val_loss: 10.5967 - val_mae: 1.9530 - val_mse: 10.5967\n",
      "Epoch 88/200\n",
      "1/1 [==============================] - 0s 30ms/step - loss: 0.2911 - mae: 0.3440 - mse: 0.2911 - val_loss: 10.4534 - val_mae: 1.9459 - val_mse: 10.4534\n",
      "Epoch 89/200\n",
      "1/1 [==============================] - 0s 29ms/step - loss: 0.2879 - mae: 0.3401 - mse: 0.2879 - val_loss: 10.3450 - val_mae: 1.9417 - val_mse: 10.3450\n",
      "Epoch 90/200\n",
      "1/1 [==============================] - 0s 31ms/step - loss: 0.2838 - mae: 0.3321 - mse: 0.2838 - val_loss: 10.2992 - val_mae: 1.9402 - val_mse: 10.2992\n",
      "Epoch 91/200\n",
      "1/1 [==============================] - 0s 29ms/step - loss: 0.2792 - mae: 0.3245 - mse: 0.2792 - val_loss: 10.3143 - val_mae: 1.9405 - val_mse: 10.3143\n",
      "Epoch 92/200\n",
      "1/1 [==============================] - 0s 28ms/step - loss: 0.2748 - mae: 0.3238 - mse: 0.2748 - val_loss: 10.3572 - val_mae: 1.9423 - val_mse: 10.3572\n",
      "Epoch 93/200\n",
      "1/1 [==============================] - 0s 28ms/step - loss: 0.2714 - mae: 0.3259 - mse: 0.2714 - val_loss: 10.3797 - val_mae: 1.9460 - val_mse: 10.3797\n",
      "Epoch 94/200\n",
      "1/1 [==============================] - 0s 29ms/step - loss: 0.2686 - mae: 0.3271 - mse: 0.2686 - val_loss: 10.3457 - val_mae: 1.9482 - val_mse: 10.3457\n",
      "Epoch 95/200\n",
      "1/1 [==============================] - 0s 26ms/step - loss: 0.2652 - mae: 0.3263 - mse: 0.2652 - val_loss: 10.2510 - val_mae: 1.9435 - val_mse: 10.2510\n",
      "Epoch 96/200\n",
      "1/1 [==============================] - 0s 25ms/step - loss: 0.2612 - mae: 0.3243 - mse: 0.2612 - val_loss: 10.1214 - val_mae: 1.9354 - val_mse: 10.1214\n",
      "Epoch 97/200\n",
      "1/1 [==============================] - 0s 28ms/step - loss: 0.2573 - mae: 0.3215 - mse: 0.2573 - val_loss: 9.9941 - val_mae: 1.9263 - val_mse: 9.9941\n",
      "Epoch 98/200\n",
      "1/1 [==============================] - 0s 31ms/step - loss: 0.2539 - mae: 0.3178 - mse: 0.2539 - val_loss: 9.8956 - val_mae: 1.9175 - val_mse: 9.8956\n",
      "Epoch 99/200\n",
      "1/1 [==============================] - 0s 29ms/step - loss: 0.2508 - mae: 0.3150 - mse: 0.2508 - val_loss: 9.8319 - val_mae: 1.9113 - val_mse: 9.8319\n",
      "Epoch 100/200\n",
      "1/1 [==============================] - 0s 29ms/step - loss: 0.2478 - mae: 0.3131 - mse: 0.2478 - val_loss: 9.7916 - val_mae: 1.9084 - val_mse: 9.7916\n",
      "Epoch 101/200\n",
      "1/1 [==============================] - 0s 26ms/step - loss: 0.2444 - mae: 0.3101 - mse: 0.2444 - val_loss: 9.7604 - val_mae: 1.9078 - val_mse: 9.7604\n",
      "Epoch 102/200\n",
      "1/1 [==============================] - 0s 30ms/step - loss: 0.2409 - mae: 0.3069 - mse: 0.2409 - val_loss: 9.7306 - val_mae: 1.9078 - val_mse: 9.7306\n",
      "Epoch 103/200\n",
      "1/1 [==============================] - 0s 27ms/step - loss: 0.2375 - mae: 0.3063 - mse: 0.2375 - val_loss: 9.7015 - val_mae: 1.9073 - val_mse: 9.7015\n",
      "Epoch 104/200\n",
      "1/1 [==============================] - 0s 25ms/step - loss: 0.2345 - mae: 0.3063 - mse: 0.2345 - val_loss: 9.6716 - val_mae: 1.9077 - val_mse: 9.6716\n",
      "Epoch 105/200\n",
      "1/1 [==============================] - 0s 25ms/step - loss: 0.2316 - mae: 0.3073 - mse: 0.2316 - val_loss: 9.6351 - val_mae: 1.9071 - val_mse: 9.6351\n",
      "Epoch 106/200\n",
      "1/1 [==============================] - 0s 25ms/step - loss: 0.2286 - mae: 0.3068 - mse: 0.2286 - val_loss: 9.5824 - val_mae: 1.9035 - val_mse: 9.5824\n",
      "Epoch 107/200\n",
      "1/1 [==============================] - 0s 25ms/step - loss: 0.2254 - mae: 0.3049 - mse: 0.2254 - val_loss: 9.5061 - val_mae: 1.8964 - val_mse: 9.5061\n",
      "Epoch 108/200\n",
      "1/1 [==============================] - 0s 25ms/step - loss: 0.2223 - mae: 0.3015 - mse: 0.2223 - val_loss: 9.4123 - val_mae: 1.8875 - val_mse: 9.4123\n",
      "Epoch 109/200\n",
      "1/1 [==============================] - 0s 24ms/step - loss: 0.2194 - mae: 0.2978 - mse: 0.2194 - val_loss: 9.3117 - val_mae: 1.8792 - val_mse: 9.3117\n",
      "Epoch 110/200\n",
      "1/1 [==============================] - 0s 26ms/step - loss: 0.2166 - mae: 0.2942 - mse: 0.2166 - val_loss: 9.2331 - val_mae: 1.8724 - val_mse: 9.2331\n",
      "Epoch 111/200\n",
      "1/1 [==============================] - 0s 24ms/step - loss: 0.2138 - mae: 0.2914 - mse: 0.2138 - val_loss: 9.1868 - val_mae: 1.8686 - val_mse: 9.1868\n",
      "Epoch 112/200\n",
      "1/1 [==============================] - 0s 24ms/step - loss: 0.2109 - mae: 0.2904 - mse: 0.2109 - val_loss: 9.1652 - val_mae: 1.8672 - val_mse: 9.1652\n",
      "Epoch 113/200\n",
      "1/1 [==============================] - 0s 25ms/step - loss: 0.2080 - mae: 0.2912 - mse: 0.2080 - val_loss: 9.1484 - val_mae: 1.8689 - val_mse: 9.1484\n",
      "Epoch 114/200\n",
      "1/1 [==============================] - 0s 25ms/step - loss: 0.2052 - mae: 0.2923 - mse: 0.2052 - val_loss: 9.1170 - val_mae: 1.8687 - val_mse: 9.1170\n",
      "Epoch 115/200\n",
      "1/1 [==============================] - 0s 23ms/step - loss: 0.2026 - mae: 0.2929 - mse: 0.2026 - val_loss: 9.0631 - val_mae: 1.8654 - val_mse: 9.0631\n",
      "Epoch 116/200\n",
      "1/1 [==============================] - 0s 24ms/step - loss: 0.1999 - mae: 0.2922 - mse: 0.1999 - val_loss: 8.9923 - val_mae: 1.8592 - val_mse: 8.9923\n",
      "Epoch 117/200\n",
      "1/1 [==============================] - 0s 25ms/step - loss: 0.1972 - mae: 0.2902 - mse: 0.1972 - val_loss: 8.9168 - val_mae: 1.8515 - val_mse: 8.9168\n",
      "Epoch 118/200\n",
      "1/1 [==============================] - 0s 24ms/step - loss: 0.1945 - mae: 0.2874 - mse: 0.1945 - val_loss: 8.8464 - val_mae: 1.8439 - val_mse: 8.8464\n",
      "Epoch 119/200\n",
      "1/1 [==============================] - 0s 26ms/step - loss: 0.1919 - mae: 0.2843 - mse: 0.1919 - val_loss: 8.7842 - val_mae: 1.8371 - val_mse: 8.7842\n",
      "Epoch 120/200\n",
      "1/1 [==============================] - 0s 24ms/step - loss: 0.1894 - mae: 0.2815 - mse: 0.1894 - val_loss: 8.7296 - val_mae: 1.8319 - val_mse: 8.7296\n",
      "Epoch 121/200\n",
      "1/1 [==============================] - 0s 25ms/step - loss: 0.1869 - mae: 0.2794 - mse: 0.1869 - val_loss: 8.6771 - val_mae: 1.8277 - val_mse: 8.6771\n",
      "Epoch 122/200\n",
      "1/1 [==============================] - 0s 25ms/step - loss: 0.1844 - mae: 0.2782 - mse: 0.1844 - val_loss: 8.6276 - val_mae: 1.8246 - val_mse: 8.6276\n",
      "Epoch 123/200\n",
      "1/1 [==============================] - 0s 25ms/step - loss: 0.1819 - mae: 0.2779 - mse: 0.1819 - val_loss: 8.5843 - val_mae: 1.8223 - val_mse: 8.5843\n",
      "Epoch 124/200\n",
      "1/1 [==============================] - 0s 25ms/step - loss: 0.1794 - mae: 0.2779 - mse: 0.1794 - val_loss: 8.5469 - val_mae: 1.8203 - val_mse: 8.5469\n",
      "Epoch 125/200\n",
      "1/1 [==============================] - 0s 26ms/step - loss: 0.1771 - mae: 0.2777 - mse: 0.1771 - val_loss: 8.5090 - val_mae: 1.8174 - val_mse: 8.5090\n",
      "Epoch 126/200\n",
      "1/1 [==============================] - 0s 26ms/step - loss: 0.1747 - mae: 0.2768 - mse: 0.1747 - val_loss: 8.4619 - val_mae: 1.8126 - val_mse: 8.4619\n",
      "Epoch 127/200\n",
      "1/1 [==============================] - 0s 25ms/step - loss: 0.1723 - mae: 0.2749 - mse: 0.1723 - val_loss: 8.4022 - val_mae: 1.8060 - val_mse: 8.4022\n",
      "Epoch 128/200\n",
      "1/1 [==============================] - 0s 26ms/step - loss: 0.1700 - mae: 0.2723 - mse: 0.1700 - val_loss: 8.3351 - val_mae: 1.7985 - val_mse: 8.3351\n",
      "Epoch 129/200\n",
      "1/1 [==============================] - 0s 26ms/step - loss: 0.1677 - mae: 0.2696 - mse: 0.1677 - val_loss: 8.2717 - val_mae: 1.7916 - val_mse: 8.2717\n",
      "Epoch 130/200\n",
      "1/1 [==============================] - 0s 27ms/step - loss: 0.1655 - mae: 0.2674 - mse: 0.1655 - val_loss: 8.2204 - val_mae: 1.7861 - val_mse: 8.2204\n",
      "Epoch 131/200\n",
      "1/1 [==============================] - 0s 25ms/step - loss: 0.1632 - mae: 0.2657 - mse: 0.1632 - val_loss: 8.1813 - val_mae: 1.7827 - val_mse: 8.1813\n",
      "Epoch 132/200\n",
      "1/1 [==============================] - 0s 25ms/step - loss: 0.1609 - mae: 0.2650 - mse: 0.1609 - val_loss: 8.1459 - val_mae: 1.7800 - val_mse: 8.1459\n",
      "Epoch 133/200\n",
      "1/1 [==============================] - 0s 25ms/step - loss: 0.1588 - mae: 0.2648 - mse: 0.1588 - val_loss: 8.1037 - val_mae: 1.7761 - val_mse: 8.1037\n",
      "Epoch 134/200\n",
      "1/1 [==============================] - 0s 26ms/step - loss: 0.1566 - mae: 0.2641 - mse: 0.1566 - val_loss: 8.0507 - val_mae: 1.7704 - val_mse: 8.0507\n",
      "Epoch 135/200\n",
      "1/1 [==============================] - 0s 25ms/step - loss: 0.1545 - mae: 0.2623 - mse: 0.1545 - val_loss: 7.9920 - val_mae: 1.7634 - val_mse: 7.9920\n",
      "Epoch 136/200\n",
      "1/1 [==============================] - 0s 28ms/step - loss: 0.1524 - mae: 0.2599 - mse: 0.1524 - val_loss: 7.9370 - val_mae: 1.7568 - val_mse: 7.9370\n",
      "Epoch 137/200\n",
      "1/1 [==============================] - 0s 24ms/step - loss: 0.1502 - mae: 0.2576 - mse: 0.1502 - val_loss: 7.8867 - val_mae: 1.7508 - val_mse: 7.8867\n",
      "Epoch 138/200\n",
      "1/1 [==============================] - 0s 27ms/step - loss: 0.1482 - mae: 0.2558 - mse: 0.1482 - val_loss: 7.8396 - val_mae: 1.7455 - val_mse: 7.8396\n",
      "Epoch 139/200\n",
      "1/1 [==============================] - 0s 25ms/step - loss: 0.1461 - mae: 0.2543 - mse: 0.1461 - val_loss: 7.7938 - val_mae: 1.7403 - val_mse: 7.7938\n",
      "Epoch 140/200\n",
      "1/1 [==============================] - 0s 27ms/step - loss: 0.1441 - mae: 0.2527 - mse: 0.1441 - val_loss: 7.7494 - val_mae: 1.7354 - val_mse: 7.7494\n",
      "Epoch 141/200\n",
      "1/1 [==============================] - 0s 27ms/step - loss: 0.1421 - mae: 0.2512 - mse: 0.1421 - val_loss: 7.7081 - val_mae: 1.7310 - val_mse: 7.7081\n",
      "Epoch 142/200\n",
      "1/1 [==============================] - 0s 27ms/step - loss: 0.1401 - mae: 0.2498 - mse: 0.1401 - val_loss: 7.6701 - val_mae: 1.7269 - val_mse: 7.6701\n",
      "Epoch 143/200\n",
      "1/1 [==============================] - 0s 27ms/step - loss: 0.1382 - mae: 0.2487 - mse: 0.1382 - val_loss: 7.6325 - val_mae: 1.7227 - val_mse: 7.6325\n",
      "Epoch 144/200\n",
      "1/1 [==============================] - 0s 24ms/step - loss: 0.1362 - mae: 0.2476 - mse: 0.1362 - val_loss: 7.5919 - val_mae: 1.7177 - val_mse: 7.5919\n",
      "Epoch 145/200\n",
      "1/1 [==============================] - 0s 31ms/step - loss: 0.1343 - mae: 0.2460 - mse: 0.1343 - val_loss: 7.5474 - val_mae: 1.7119 - val_mse: 7.5474\n",
      "Epoch 146/200\n",
      "1/1 [==============================] - 0s 32ms/step - loss: 0.1324 - mae: 0.2439 - mse: 0.1324 - val_loss: 7.5018 - val_mae: 1.7059 - val_mse: 7.5018\n",
      "Epoch 147/200\n",
      "1/1 [==============================] - 0s 31ms/step - loss: 0.1306 - mae: 0.2416 - mse: 0.1306 - val_loss: 7.4594 - val_mae: 1.7003 - val_mse: 7.4594\n",
      "Epoch 148/200\n",
      "1/1 [==============================] - 0s 34ms/step - loss: 0.1287 - mae: 0.2397 - mse: 0.1287 - val_loss: 7.4220 - val_mae: 1.6956 - val_mse: 7.4220\n",
      "Epoch 149/200\n",
      "1/1 [==============================] - 0s 31ms/step - loss: 0.1269 - mae: 0.2383 - mse: 0.1269 - val_loss: 7.3882 - val_mae: 1.6915 - val_mse: 7.3882\n",
      "Epoch 150/200\n",
      "1/1 [==============================] - 0s 26ms/step - loss: 0.1251 - mae: 0.2370 - mse: 0.1251 - val_loss: 7.3549 - val_mae: 1.6874 - val_mse: 7.3549\n",
      "Epoch 151/200\n",
      "1/1 [==============================] - 0s 27ms/step - loss: 0.1233 - mae: 0.2356 - mse: 0.1233 - val_loss: 7.3204 - val_mae: 1.6829 - val_mse: 7.3204\n",
      "Epoch 152/200\n",
      "1/1 [==============================] - 0s 28ms/step - loss: 0.1216 - mae: 0.2341 - mse: 0.1216 - val_loss: 7.2849 - val_mae: 1.6782 - val_mse: 7.2849\n",
      "Epoch 153/200\n",
      "1/1 [==============================] - 0s 26ms/step - loss: 0.1198 - mae: 0.2325 - mse: 0.1198 - val_loss: 7.2494 - val_mae: 1.6734 - val_mse: 7.2494\n",
      "Epoch 154/200\n",
      "1/1 [==============================] - 0s 26ms/step - loss: 0.1181 - mae: 0.2309 - mse: 0.1181 - val_loss: 7.2144 - val_mae: 1.6684 - val_mse: 7.2144\n",
      "Epoch 155/200\n",
      "1/1 [==============================] - 0s 25ms/step - loss: 0.1164 - mae: 0.2292 - mse: 0.1164 - val_loss: 7.1797 - val_mae: 1.6633 - val_mse: 7.1797\n",
      "Epoch 156/200\n",
      "1/1 [==============================] - 0s 26ms/step - loss: 0.1147 - mae: 0.2274 - mse: 0.1147 - val_loss: 7.1454 - val_mae: 1.6589 - val_mse: 7.1454\n",
      "Epoch 157/200\n",
      "1/1 [==============================] - 0s 63ms/step - loss: 0.1130 - mae: 0.2255 - mse: 0.1130 - val_loss: 7.1095 - val_mae: 1.6547 - val_mse: 7.1095\n",
      "Epoch 158/200\n",
      "1/1 [==============================] - 0s 32ms/step - loss: 0.1114 - mae: 0.2238 - mse: 0.1114 - val_loss: 7.0733 - val_mae: 1.6506 - val_mse: 7.0733\n",
      "Epoch 159/200\n",
      "1/1 [==============================] - 0s 26ms/step - loss: 0.1098 - mae: 0.2222 - mse: 0.1098 - val_loss: 7.0393 - val_mae: 1.6465 - val_mse: 7.0393\n",
      "Epoch 160/200\n",
      "1/1 [==============================] - 0s 26ms/step - loss: 0.1082 - mae: 0.2208 - mse: 0.1082 - val_loss: 7.0084 - val_mae: 1.6425 - val_mse: 7.0084\n",
      "Epoch 161/200\n",
      "1/1 [==============================] - 0s 24ms/step - loss: 0.1066 - mae: 0.2193 - mse: 0.1066 - val_loss: 6.9793 - val_mae: 1.6385 - val_mse: 6.9793\n",
      "Epoch 162/200\n",
      "1/1 [==============================] - 0s 24ms/step - loss: 0.1050 - mae: 0.2177 - mse: 0.1050 - val_loss: 6.9492 - val_mae: 1.6344 - val_mse: 6.9492\n",
      "Epoch 163/200\n",
      "1/1 [==============================] - 0s 27ms/step - loss: 0.1035 - mae: 0.2159 - mse: 0.1035 - val_loss: 6.9171 - val_mae: 1.6301 - val_mse: 6.9171\n",
      "Epoch 164/200\n",
      "1/1 [==============================] - 0s 24ms/step - loss: 0.1020 - mae: 0.2142 - mse: 0.1020 - val_loss: 6.8842 - val_mae: 1.6257 - val_mse: 6.8842\n",
      "Epoch 165/200\n",
      "1/1 [==============================] - 0s 25ms/step - loss: 0.1004 - mae: 0.2125 - mse: 0.1004 - val_loss: 6.8529 - val_mae: 1.6215 - val_mse: 6.8529\n",
      "Epoch 166/200\n",
      "1/1 [==============================] - 0s 24ms/step - loss: 0.0989 - mae: 0.2108 - mse: 0.0989 - val_loss: 6.8241 - val_mae: 1.6176 - val_mse: 6.8241\n",
      "Epoch 167/200\n",
      "1/1 [==============================] - 0s 26ms/step - loss: 0.0975 - mae: 0.2092 - mse: 0.0975 - val_loss: 6.7972 - val_mae: 1.6139 - val_mse: 6.7972\n",
      "Epoch 168/200\n",
      "1/1 [==============================] - 0s 24ms/step - loss: 0.0960 - mae: 0.2075 - mse: 0.0960 - val_loss: 6.7703 - val_mae: 1.6101 - val_mse: 6.7703\n",
      "Epoch 169/200\n",
      "1/1 [==============================] - 0s 24ms/step - loss: 0.0946 - mae: 0.2059 - mse: 0.0946 - val_loss: 6.7424 - val_mae: 1.6061 - val_mse: 6.7424\n",
      "Epoch 170/200\n",
      "1/1 [==============================] - 0s 25ms/step - loss: 0.0932 - mae: 0.2044 - mse: 0.0932 - val_loss: 6.7140 - val_mae: 1.6021 - val_mse: 6.7140\n",
      "Epoch 171/200\n",
      "1/1 [==============================] - 0s 26ms/step - loss: 0.0918 - mae: 0.2028 - mse: 0.0918 - val_loss: 6.6845 - val_mae: 1.5981 - val_mse: 6.6845\n",
      "Epoch 172/200\n",
      "1/1 [==============================] - 0s 28ms/step - loss: 0.0904 - mae: 0.2011 - mse: 0.0904 - val_loss: 6.6566 - val_mae: 1.5930 - val_mse: 6.6566\n",
      "Epoch 173/200\n",
      "1/1 [==============================] - 0s 34ms/step - loss: 0.0890 - mae: 0.1998 - mse: 0.0890 - val_loss: 6.6276 - val_mae: 1.5867 - val_mse: 6.6276\n",
      "Epoch 174/200\n",
      "1/1 [==============================] - 0s 32ms/step - loss: 0.0877 - mae: 0.1985 - mse: 0.0877 - val_loss: 6.5952 - val_mae: 1.5803 - val_mse: 6.5952\n",
      "Epoch 175/200\n",
      "1/1 [==============================] - 0s 30ms/step - loss: 0.0864 - mae: 0.1968 - mse: 0.0864 - val_loss: 6.5577 - val_mae: 1.5748 - val_mse: 6.5577\n",
      "Epoch 176/200\n",
      "1/1 [==============================] - 0s 27ms/step - loss: 0.0850 - mae: 0.1944 - mse: 0.0850 - val_loss: 6.5206 - val_mae: 1.5698 - val_mse: 6.5206\n",
      "Epoch 177/200\n",
      "1/1 [==============================] - 0s 31ms/step - loss: 0.0837 - mae: 0.1920 - mse: 0.0837 - val_loss: 6.4900 - val_mae: 1.5647 - val_mse: 6.4900\n",
      "Epoch 178/200\n",
      "1/1 [==============================] - 0s 28ms/step - loss: 0.0825 - mae: 0.1903 - mse: 0.0825 - val_loss: 6.4667 - val_mae: 1.5596 - val_mse: 6.4667\n",
      "Epoch 179/200\n",
      "1/1 [==============================] - 0s 28ms/step - loss: 0.0812 - mae: 0.1893 - mse: 0.0812 - val_loss: 6.4460 - val_mae: 1.5551 - val_mse: 6.4460\n",
      "Epoch 180/200\n",
      "1/1 [==============================] - 0s 26ms/step - loss: 0.0799 - mae: 0.1882 - mse: 0.0799 - val_loss: 6.4225 - val_mae: 1.5513 - val_mse: 6.4225\n",
      "Epoch 181/200\n",
      "1/1 [==============================] - 0s 29ms/step - loss: 0.0787 - mae: 0.1867 - mse: 0.0787 - val_loss: 6.3956 - val_mae: 1.5475 - val_mse: 6.3956\n",
      "Epoch 182/200\n",
      "1/1 [==============================] - 0s 27ms/step - loss: 0.0775 - mae: 0.1849 - mse: 0.0775 - val_loss: 6.3682 - val_mae: 1.5429 - val_mse: 6.3682\n",
      "Epoch 183/200\n",
      "1/1 [==============================] - 0s 28ms/step - loss: 0.0763 - mae: 0.1832 - mse: 0.0763 - val_loss: 6.3426 - val_mae: 1.5377 - val_mse: 6.3426\n",
      "Epoch 184/200\n",
      "1/1 [==============================] - 0s 25ms/step - loss: 0.0751 - mae: 0.1817 - mse: 0.0751 - val_loss: 6.3181 - val_mae: 1.5326 - val_mse: 6.3181\n",
      "Epoch 185/200\n",
      "1/1 [==============================] - 0s 27ms/step - loss: 0.0739 - mae: 0.1800 - mse: 0.0739 - val_loss: 6.2932 - val_mae: 1.5285 - val_mse: 6.2932\n",
      "Epoch 186/200\n",
      "1/1 [==============================] - 0s 27ms/step - loss: 0.0728 - mae: 0.1782 - mse: 0.0728 - val_loss: 6.2684 - val_mae: 1.5268 - val_mse: 6.2684\n",
      "Epoch 187/200\n",
      "1/1 [==============================] - 0s 25ms/step - loss: 0.0716 - mae: 0.1768 - mse: 0.0716 - val_loss: 6.2454 - val_mae: 1.5245 - val_mse: 6.2454\n",
      "Epoch 188/200\n",
      "1/1 [==============================] - 0s 25ms/step - loss: 0.0705 - mae: 0.1755 - mse: 0.0705 - val_loss: 6.2254 - val_mae: 1.5217 - val_mse: 6.2254\n",
      "Epoch 189/200\n",
      "1/1 [==============================] - 0s 26ms/step - loss: 0.0694 - mae: 0.1745 - mse: 0.0694 - val_loss: 6.2068 - val_mae: 1.5193 - val_mse: 6.2068\n",
      "Epoch 190/200\n",
      "1/1 [==============================] - 0s 26ms/step - loss: 0.0683 - mae: 0.1735 - mse: 0.0683 - val_loss: 6.1876 - val_mae: 1.5173 - val_mse: 6.1876\n",
      "Epoch 191/200\n",
      "1/1 [==============================] - 0s 25ms/step - loss: 0.0672 - mae: 0.1725 - mse: 0.0672 - val_loss: 6.1648 - val_mae: 1.5154 - val_mse: 6.1648\n",
      "Epoch 192/200\n",
      "1/1 [==============================] - 0s 25ms/step - loss: 0.0662 - mae: 0.1711 - mse: 0.0662 - val_loss: 6.1398 - val_mae: 1.5125 - val_mse: 6.1398\n",
      "Epoch 193/200\n",
      "1/1 [==============================] - 0s 25ms/step - loss: 0.0651 - mae: 0.1695 - mse: 0.0651 - val_loss: 6.1159 - val_mae: 1.5089 - val_mse: 6.1159\n",
      "Epoch 194/200\n",
      "1/1 [==============================] - 0s 24ms/step - loss: 0.0641 - mae: 0.1678 - mse: 0.0641 - val_loss: 6.0939 - val_mae: 1.5056 - val_mse: 6.0939\n",
      "Epoch 195/200\n",
      "1/1 [==============================] - 0s 24ms/step - loss: 0.0630 - mae: 0.1664 - mse: 0.0630 - val_loss: 6.0736 - val_mae: 1.5032 - val_mse: 6.0736\n",
      "Epoch 196/200\n",
      "1/1 [==============================] - 0s 25ms/step - loss: 0.0620 - mae: 0.1651 - mse: 0.0620 - val_loss: 6.0537 - val_mae: 1.5015 - val_mse: 6.0537\n",
      "Epoch 197/200\n",
      "1/1 [==============================] - 0s 25ms/step - loss: 0.0610 - mae: 0.1640 - mse: 0.0610 - val_loss: 6.0335 - val_mae: 1.4994 - val_mse: 6.0335\n",
      "Epoch 198/200\n",
      "1/1 [==============================] - 0s 26ms/step - loss: 0.0601 - mae: 0.1628 - mse: 0.0601 - val_loss: 6.0135 - val_mae: 1.4968 - val_mse: 6.0135\n",
      "Epoch 199/200\n",
      "1/1 [==============================] - 0s 25ms/step - loss: 0.0591 - mae: 0.1616 - mse: 0.0591 - val_loss: 5.9943 - val_mae: 1.4942 - val_mse: 5.9943\n",
      "Epoch 200/200\n",
      "1/1 [==============================] - 0s 26ms/step - loss: 0.0581 - mae: 0.1604 - mse: 0.0581 - val_loss: 5.9755 - val_mae: 1.4921 - val_mse: 5.9755\n"
     ]
    }
   ],
   "source": [
    "history = model.fit(x_train,\n",
    "                    y_train,\n",
    "                    epochs          = 200,\n",
    "                    batch_size      = 10,\n",
    "                    verbose         = fit_verbosity,\n",
    "                    validation_data = (x_test, y_test))"
   ]
  },
  {
   "cell_type": "markdown",
   "metadata": {
    "tags": []
   },
   "source": [
    "## Step 6 - Evaluate\n",
    "### 6.1 - Model evaluation\n",
    "MAE =  Mean Absolute Error (between the labels and predictions)  \n",
    "A mae equal to 3 represents an average error in prediction of $3k."
   ]
  },
  {
   "cell_type": "code",
   "execution_count": 331,
   "metadata": {},
   "outputs": [
    {
     "name": "stdout",
     "output_type": "stream",
     "text": [
      "x_test / loss      : 5.9755\n",
      "x_test / mae       : 1.4921\n",
      "x_test / mse       : 5.9755\n"
     ]
    }
   ],
   "source": [
    "score = model.evaluate(x_test, y_test, verbose=0)\n",
    "\n",
    "print('x_test / loss      : {:5.4f}'.format(score[0]))\n",
    "print('x_test / mae       : {:5.4f}'.format(score[1]))\n",
    "print('x_test / mse       : {:5.4f}'.format(score[2]))"
   ]
  },
  {
   "cell_type": "markdown",
   "metadata": {},
   "source": [
    "### 6.2 - Training history\n",
    "What was the best result during our training ?"
   ]
  },
  {
   "cell_type": "code",
   "execution_count": 332,
   "metadata": {},
   "outputs": [],
   "source": [
    "df=pd.DataFrame(data=history.history)\n",
    "# display(df)"
   ]
  },
  {
   "cell_type": "code",
   "execution_count": 333,
   "metadata": {},
   "outputs": [
    {
     "name": "stdout",
     "output_type": "stream",
     "text": [
      "min( val_mae ) : 1.4921\n"
     ]
    },
    {
     "data": {
      "image/png": "[encoded data removed]",
      "text/plain": [
       "<Figure size 432x288 with 1 Axes>"
      ]
     },
     "metadata": {
      "needs_background": "light"
     },
     "output_type": "display_data"
    }
   ],
   "source": [
    "print(\"min( val_mae ) : {:.4f}\".format( min(history.history[\"val_mae\"]) ) )\n",
    "\n",
    "plt.plot(np.arange(len(history.history[\"val_mae\"])),history.history[\"val_mae\"],label=\"mae\")\n",
    "plt.plot(np.arange(len(history.history[\"val_mae\"])),history.history[\"val_mse\"],label=\"mse\")\n",
    "plt.plot(np.arange(len(history.history[\"val_mae\"])),history.history[\"val_loss\"],label=\"loss\")\n",
    "plt.title(\"Evolution of mae value\")\n",
    "plt.xlabel(\"Epoch\")\n",
    "plt.ylabel(\"Mae\")\n",
    "plt.grid()\n",
    "plt.legend()\n",
    "plt.show()"
   ]
  },
  {
   "cell_type": "code",
   "execution_count": 334,
   "metadata": {},
   "outputs": [],
   "source": [
    "# pwk.plot_history(history, plot={'MSE' :['mse', 'val_mse'],\n",
    "#                                 'MAE' :['mae', 'val_mae'],\n",
    "#                                 'LOSS':['loss','val_loss']}, save_as='01-history')"
   ]
  },
  {
   "cell_type": "markdown",
   "metadata": {},
   "source": [
    "## Step 7 - Make a prediction\n",
    "The data must be normalized with the parameters (mean, std) previously used."
   ]
  },
  {
   "cell_type": "code",
   "execution_count": 335,
   "metadata": {},
   "outputs": [],
   "source": [
    "new_data = Block.all[\"2015BD\"].to_ai_ready()[:-4]\n",
    "\n",
    "new_data = (new_data - mean) / std\n",
    "\n",
    "new_data=np.array(new_data).reshape(1,len(new_data))"
   ]
  },
  {
   "cell_type": "code",
   "execution_count": 336,
   "metadata": {},
   "outputs": [
    {
     "name": "stdout",
     "output_type": "stream",
     "text": [
      "1/1 [==============================] - 0s 52ms/step\n",
      "[[ 1.0255556  27.553131    1.2921231  -0.73210394]]\n"
     ]
    },
    {
     "data": {
      "image/png": "[encoded data removed]",
      "text/plain": [
       "<Figure size 432x288 with 1 Axes>"
      ]
     },
     "metadata": {
      "needs_background": "light"
     },
     "output_type": "display_data"
    }
   ],
   "source": [
    "\n",
    "predictions = model.predict( new_data )\n",
    "print(predictions)\n",
    "\n",
    "def ft(m,a,b,c,d):\n",
    "    return a/4 * (1-np.tanh((m-b)/c)) * (1-np.tanh((m-b)/d))\n",
    "\n",
    "def fs(m,a,b,c,d):\n",
    "    return (a-b*(m-21)**2) / (1+np.exp((m-c)/d))\n",
    "\n",
    "m = np.linspace(21,25.5,1000)\n",
    "plt.plot(m,ft(m,*predictions[0]), label=\"Machine Learning\")\n",
    "plt.plot(m,fs(m,0.930487275,9.34686325E-03,25.1766472,0.171281680), label=\"Excpected\")\n",
    "plt.grid()\n",
    "plt.legend()\n",
    "plt.title(\"TNO efficiency rate\")\n",
    "plt.xlabel(\"Magnitude\")\n",
    "plt.ylabel(\"Efficiency\")\n",
    "plt.show()"
   ]
  }
 ],
 "metadata": {
  "interpreter": {
   "hash": "b1608aa268624f49abdba28d68a12868829a289300b8f153f56ec99c9581bdb9"
  },
  "kernelspec": {
   "display_name": "Python 3.10.3 64-bit",
   "language": "python",
   "name": "python3"
  },
  "language_info": {
   "codemirror_mode": {
    "name": "ipython",
    "version": 3
   },
   "file_extension": ".py",
   "mimetype": "text/x-python",
   "name": "python",
   "nbconvert_exporter": "python",
   "pygments_lexer": "ipython3",
   "version": "3.10.3"
  }
 },
 "nbformat": 4,
 "nbformat_minor": 4
}
