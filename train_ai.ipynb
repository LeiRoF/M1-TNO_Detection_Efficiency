{
 "cells": [
  {
   "cell_type": "markdown",
   "metadata": {
    "tags": []
   },
   "source": [
    "## Step 1 - Import and init\n",
    "\n",
    "You can also adjust the verbosity by changing the value of TF_CPP_MIN_LOG_LEVEL :\n",
    "- 0 = all messages are logged (default)\n",
    "- 1 = INFO messages are not printed.\n",
    "- 2 = INFO and WARNING messages are not printed.\n",
    "- 3 = INFO , WARNING and ERROR messages are not printed."
   ]
  },
  {
   "cell_type": "code",
   "execution_count": 1,
   "metadata": {},
   "outputs": [],
   "source": [
    "# import os\n",
    "# os.environ['TF_CPP_MIN_LOG_LEVEL'] = '2'\n",
    "\n",
    "from IPython.display import display\n",
    "\n",
    "import tensorflow as tf\n",
    "from tensorflow import keras\n",
    "\n",
    "import numpy as np\n",
    "import matplotlib.pyplot as plt\n",
    "import pandas as pd\n",
    "import os,sys\n",
    "\n",
    "# sys.path.append('..')\n",
    "# import fidle.pwk as pwk\n",
    "\n",
    "import data_io\n",
    "from classes.block import Block\n",
    "from classes.triplet import Triplet\n",
    "from classes.shot import Shot\n",
    "from classes.ccd import CCD\n",
    "\n",
    "# datasets_dir = pwk.init('BHPD1')"
   ]
  },
  {
   "cell_type": "markdown",
   "metadata": {},
   "source": [
    "Verbosity during training : \n",
    "- 0 = silent\n",
    "- 1 = progress bar\n",
    "- 2 = one line per epoch"
   ]
  },
  {
   "cell_type": "code",
   "execution_count": 2,
   "metadata": {},
   "outputs": [],
   "source": [
    "fit_verbosity = 1"
   ]
  },
  {
   "cell_type": "markdown",
   "metadata": {},
   "source": [
    "## Step 2 - Retrieve data"
   ]
  },
  {
   "cell_type": "code",
   "execution_count": 3,
   "metadata": {},
   "outputs": [
    {
     "name": "stdout",
     "output_type": "stream",
     "text": [
      "Loading 2013AE.yml\n",
      "Loading 2013AO.yml\n",
      "Loading 2013BL.yml\n",
      "Loading 2015AM.yml\n",
      "Loading 2015AP.yml\n",
      "Loading 2015BS.yml\n",
      "Loading 2015BT.yml\n",
      "Loading 2015BD.yml\n",
      "Loading 2014BH.yml\n",
      "Loading 2015BC.yml\n",
      "2015BD\n"
     ]
    }
   ],
   "source": [
    "data_io.loadAll()\n",
    "data = data_io.get_ai_ready(subsets_per_block=100)"
   ]
  },
  {
   "cell_type": "markdown",
   "metadata": {},
   "source": [
    "## Step 3 - Preparing the data\n",
    "### 3.1 - Split data\n",
    "We will use 70% of the data for training and 30% for validation.  \n",
    "The dataset is **shuffled** and shared between **learning** and **testing**.  \n",
    "x will be input data and y the expected output"
   ]
  },
  {
   "cell_type": "code",
   "execution_count": 4,
   "metadata": {},
   "outputs": [
    {
     "name": "stdout",
     "output_type": "stream",
     "text": [
      "Original data shape was :  (900, 13828)\n",
      "x_train :  (630, 13824) y_train :  (630, 4)\n",
      "x_test  :  (270, 13824) y_test  :  (270, 4)\n"
     ]
    }
   ],
   "source": [
    "# ---- Shuffle and Split => train, test\n",
    "#\n",
    "\n",
    "train_prop = 0.7\n",
    "\n",
    "train_sets = int(len(data)*train_prop)\n",
    "\n",
    "index = np.zeros(len(data),dtype=bool)\n",
    "# index[:train_sets] = True\n",
    "while sum(index) < train_sets:\n",
    "    index[np.random.randint(0,len(data))] = True\n",
    "\n",
    "data_train = data[index]\n",
    "data_test  = data[~index]\n",
    "\n",
    "# ---- Split => x,y (medv is price)\n",
    "#\n",
    "x_train = data_train[:,:-4]\n",
    "y_train = data_train[:,-4:]\n",
    "x_test  = data_test[:,:-4]\n",
    "y_test  = data_test[:,-4:]\n",
    "\n",
    "print('Original data shape was : ',data.shape)\n",
    "print('x_train : ',x_train.shape, 'y_train : ',y_train.shape)\n",
    "print('x_test  : ',x_test.shape,  'y_test  : ',y_test.shape)"
   ]
  },
  {
   "cell_type": "markdown",
   "metadata": {
    "tags": []
   },
   "source": [
    "### 3.2 - Data normalization\n",
    "**Note :** \n",
    " - All input data must be normalized, train and test.  \n",
    " - To do this we will **subtract the mean** and **divide by the standard deviation**.  \n",
    " - But test data should not be used in any way, even for normalization.  \n",
    " - The mean and the standard deviation will therefore only be calculated with the train data."
   ]
  },
  {
   "cell_type": "code",
   "execution_count": 5,
   "metadata": {},
   "outputs": [],
   "source": [
    "# display(x_train.describe().style.format(\"{0:.2f}\").set_caption(\"Before normalization :\"))\n",
    "\n",
    "mean = x_train.mean()\n",
    "std  = x_train.std()\n",
    "x_train = (x_train - mean) / std\n",
    "x_test  = (x_test  - mean) / std\n",
    "\n",
    "# display(x_train.describe().style.format(\"{0:.2f}\").set_caption(\"After normalization :\"))\n",
    "# display(x_train.head(5).style.format(\"{0:.2f}\").set_caption(\"Few lines of the dataset :\"))\n",
    "\n",
    "x_train, y_train = np.array(x_train), np.array(y_train)\n",
    "x_test,  y_test  = np.array(x_test),  np.array(y_test)\n"
   ]
  },
  {
   "cell_type": "markdown",
   "metadata": {},
   "source": [
    "## Step 4 - Build a model\n",
    "About informations about : \n",
    " - [Optimizer](https://www.tensorflow.org/api_docs/python/tf/keras/optimizers)\n",
    " - [Activation](https://www.tensorflow.org/api_docs/python/tf/keras/activations)\n",
    " - [Loss](https://www.tensorflow.org/api_docs/python/tf/keras/losses)\n",
    " - [Metrics](https://www.tensorflow.org/api_docs/python/tf/keras/metrics)"
   ]
  },
  {
   "cell_type": "code",
   "execution_count": 6,
   "metadata": {},
   "outputs": [],
   "source": [
    "def get_model_v1(shape):\n",
    "  \n",
    "  model = keras.models.Sequential()\n",
    "  model.add(keras.layers.Input(shape, name=\"InputLayer\"))\n",
    "  model.add(keras.layers.Dense(32, activation='relu', name='Dense_n1'))\n",
    "  model.add(keras.layers.Dense(64, activation='relu', name='Dense_n2'))\n",
    "  model.add(keras.layers.Dense(32, activation='relu', name='Dense_n3'))\n",
    "  model.add(keras.layers.Dense(4, name='Output'))\n",
    "  \n",
    "  model.compile(optimizer = 'adam',\n",
    "                loss      = 'mse',\n",
    "                metrics   = ['mae', 'mse'] )\n",
    "  return model"
   ]
  },
  {
   "cell_type": "markdown",
   "metadata": {},
   "source": [
    "## Step 5 - Train the model\n",
    "### 5.1 - Get it"
   ]
  },
  {
   "cell_type": "code",
   "execution_count": 7,
   "metadata": {},
   "outputs": [
    {
     "name": "stdout",
     "output_type": "stream",
     "text": [
      "Model: \"sequential\"\n",
      "_________________________________________________________________\n",
      " Layer (type)                Output Shape              Param #   \n",
      "=================================================================\n",
      " Dense_n1 (Dense)            (None, 32)                442400    \n",
      "                                                                 \n",
      " Dense_n2 (Dense)            (None, 64)                2112      \n",
      "                                                                 \n",
      " Dense_n3 (Dense)            (None, 32)                2080      \n",
      "                                                                 \n",
      " Output (Dense)              (None, 4)                 132       \n",
      "                                                                 \n",
      "=================================================================\n",
      "Total params: 446,724\n",
      "Trainable params: 446,724\n",
      "Non-trainable params: 0\n",
      "_________________________________________________________________\n"
     ]
    }
   ],
   "source": [
    "model=get_model_v1( (len(x_train[0]),) )\n",
    "\n",
    "model.summary()\n",
    "\n",
    "# img=keras.utils.plot_model( model, to_file='./run/model.png', show_shapes=True, show_layer_names=True, dpi=96)\n",
    "# display(img)"
   ]
  },
  {
   "cell_type": "markdown",
   "metadata": {},
   "source": [
    "### 5.2 - Train it"
   ]
  },
  {
   "cell_type": "code",
   "execution_count": 8,
   "metadata": {},
   "outputs": [
    {
     "name": "stdout",
     "output_type": "stream",
     "text": [
      "Epoch 1/60\n",
      "63/63 [==============================] - 1s 6ms/step - loss: 20.0530 - mae: 2.5279 - mse: 20.0530 - val_loss: 2.0422 - val_mae: 0.9875 - val_mse: 2.0422\n",
      "Epoch 2/60\n",
      "63/63 [==============================] - 0s 4ms/step - loss: 1.4597 - mae: 0.7959 - mse: 1.4597 - val_loss: 1.5527 - val_mae: 0.7172 - val_mse: 1.5527\n",
      "Epoch 3/60\n",
      "63/63 [==============================] - 0s 4ms/step - loss: 1.2212 - mae: 0.6791 - mse: 1.2212 - val_loss: 1.3779 - val_mae: 0.7230 - val_mse: 1.3779\n",
      "Epoch 4/60\n",
      "63/63 [==============================] - 0s 4ms/step - loss: 1.0811 - mae: 0.5882 - mse: 1.0811 - val_loss: 1.3179 - val_mae: 0.5320 - val_mse: 1.3179\n",
      "Epoch 5/60\n",
      "63/63 [==============================] - 0s 4ms/step - loss: 0.9832 - mae: 0.5248 - mse: 0.9832 - val_loss: 1.3171 - val_mae: 0.5929 - val_mse: 1.3171\n",
      "Epoch 6/60\n",
      "63/63 [==============================] - 0s 4ms/step - loss: 1.0150 - mae: 0.5715 - mse: 1.0150 - val_loss: 1.1800 - val_mae: 0.5043 - val_mse: 1.1800\n",
      "Epoch 7/60\n",
      "63/63 [==============================] - 0s 4ms/step - loss: 0.8474 - mae: 0.4853 - mse: 0.8474 - val_loss: 1.3657 - val_mae: 0.4849 - val_mse: 1.3657\n",
      "Epoch 8/60\n",
      "63/63 [==============================] - 0s 4ms/step - loss: 0.7818 - mae: 0.4727 - mse: 0.7818 - val_loss: 0.9408 - val_mae: 0.4629 - val_mse: 0.9408\n",
      "Epoch 9/60\n",
      "63/63 [==============================] - 0s 4ms/step - loss: 0.7575 - mae: 0.4824 - mse: 0.7575 - val_loss: 0.9181 - val_mae: 0.4741 - val_mse: 0.9181\n",
      "Epoch 10/60\n",
      "63/63 [==============================] - 0s 4ms/step - loss: 0.7197 - mae: 0.4880 - mse: 0.7197 - val_loss: 0.9627 - val_mae: 0.5119 - val_mse: 0.9627\n",
      "Epoch 11/60\n",
      "63/63 [==============================] - 0s 4ms/step - loss: 0.8222 - mae: 0.5421 - mse: 0.8222 - val_loss: 0.7522 - val_mae: 0.5047 - val_mse: 0.7522\n",
      "Epoch 12/60\n",
      "63/63 [==============================] - 0s 4ms/step - loss: 0.5726 - mae: 0.4426 - mse: 0.5726 - val_loss: 0.7819 - val_mae: 0.5128 - val_mse: 0.7819\n",
      "Epoch 13/60\n",
      "63/63 [==============================] - 0s 4ms/step - loss: 0.4285 - mae: 0.3935 - mse: 0.4285 - val_loss: 0.7537 - val_mae: 0.4428 - val_mse: 0.7537\n",
      "Epoch 14/60\n",
      "63/63 [==============================] - 0s 4ms/step - loss: 0.3773 - mae: 0.3516 - mse: 0.3773 - val_loss: 0.5722 - val_mae: 0.4536 - val_mse: 0.5722\n",
      "Epoch 15/60\n",
      "63/63 [==============================] - 0s 4ms/step - loss: 0.3854 - mae: 0.3766 - mse: 0.3854 - val_loss: 0.4805 - val_mae: 0.3289 - val_mse: 0.4805\n",
      "Epoch 16/60\n",
      "63/63 [==============================] - 0s 4ms/step - loss: 0.3908 - mae: 0.3799 - mse: 0.3908 - val_loss: 0.4627 - val_mae: 0.4693 - val_mse: 0.4627\n",
      "Epoch 17/60\n",
      "63/63 [==============================] - 0s 4ms/step - loss: 0.3630 - mae: 0.3681 - mse: 0.3630 - val_loss: 0.3369 - val_mae: 0.3289 - val_mse: 0.3369\n",
      "Epoch 18/60\n",
      "63/63 [==============================] - 0s 4ms/step - loss: 0.2000 - mae: 0.2665 - mse: 0.2000 - val_loss: 0.2873 - val_mae: 0.3247 - val_mse: 0.2873\n",
      "Epoch 19/60\n",
      "63/63 [==============================] - 0s 4ms/step - loss: 0.2258 - mae: 0.2891 - mse: 0.2258 - val_loss: 0.2531 - val_mae: 0.2977 - val_mse: 0.2531\n",
      "Epoch 20/60\n",
      "63/63 [==============================] - 0s 4ms/step - loss: 0.2370 - mae: 0.2811 - mse: 0.2370 - val_loss: 0.3719 - val_mae: 0.4342 - val_mse: 0.3719\n",
      "Epoch 21/60\n",
      "63/63 [==============================] - 0s 4ms/step - loss: 0.1844 - mae: 0.2608 - mse: 0.1844 - val_loss: 0.2398 - val_mae: 0.2374 - val_mse: 0.2398\n",
      "Epoch 22/60\n",
      "63/63 [==============================] - 0s 4ms/step - loss: 0.1261 - mae: 0.2161 - mse: 0.1261 - val_loss: 0.2089 - val_mae: 0.2644 - val_mse: 0.2089\n",
      "Epoch 23/60\n",
      "63/63 [==============================] - 0s 4ms/step - loss: 0.1846 - mae: 0.2672 - mse: 0.1846 - val_loss: 0.3759 - val_mae: 0.3901 - val_mse: 0.3759\n",
      "Epoch 24/60\n",
      "63/63 [==============================] - 0s 4ms/step - loss: 0.1328 - mae: 0.2239 - mse: 0.1328 - val_loss: 0.5666 - val_mae: 0.3015 - val_mse: 0.5666\n",
      "Epoch 25/60\n",
      "63/63 [==============================] - 0s 4ms/step - loss: 0.1631 - mae: 0.2389 - mse: 0.1631 - val_loss: 0.4695 - val_mae: 0.3565 - val_mse: 0.4695\n",
      "Epoch 26/60\n",
      "63/63 [==============================] - 0s 4ms/step - loss: 0.1127 - mae: 0.2102 - mse: 0.1127 - val_loss: 0.3329 - val_mae: 0.3093 - val_mse: 0.3329\n",
      "Epoch 27/60\n",
      "63/63 [==============================] - 0s 4ms/step - loss: 0.2616 - mae: 0.3142 - mse: 0.2616 - val_loss: 0.2014 - val_mae: 0.2949 - val_mse: 0.2014\n",
      "Epoch 28/60\n",
      "63/63 [==============================] - 0s 4ms/step - loss: 0.1955 - mae: 0.2797 - mse: 0.1955 - val_loss: 0.2411 - val_mae: 0.2792 - val_mse: 0.2411\n",
      "Epoch 29/60\n",
      "63/63 [==============================] - 0s 4ms/step - loss: 0.0856 - mae: 0.1751 - mse: 0.0856 - val_loss: 0.1991 - val_mae: 0.2543 - val_mse: 0.1991\n",
      "Epoch 30/60\n",
      "63/63 [==============================] - 0s 4ms/step - loss: 0.0663 - mae: 0.1635 - mse: 0.0663 - val_loss: 0.1350 - val_mae: 0.1927 - val_mse: 0.1350\n",
      "Epoch 31/60\n",
      "63/63 [==============================] - 0s 4ms/step - loss: 0.1142 - mae: 0.2064 - mse: 0.1142 - val_loss: 0.2252 - val_mae: 0.3121 - val_mse: 0.2252\n",
      "Epoch 32/60\n",
      "63/63 [==============================] - 0s 4ms/step - loss: 0.0855 - mae: 0.1825 - mse: 0.0855 - val_loss: 0.2155 - val_mae: 0.1977 - val_mse: 0.2155\n",
      "Epoch 33/60\n",
      "63/63 [==============================] - 0s 4ms/step - loss: 0.0617 - mae: 0.1544 - mse: 0.0617 - val_loss: 0.1155 - val_mae: 0.1664 - val_mse: 0.1155\n",
      "Epoch 34/60\n",
      "63/63 [==============================] - 0s 4ms/step - loss: 0.0643 - mae: 0.1603 - mse: 0.0643 - val_loss: 0.0799 - val_mae: 0.1506 - val_mse: 0.0799\n",
      "Epoch 35/60\n",
      "63/63 [==============================] - 0s 4ms/step - loss: 0.0679 - mae: 0.1677 - mse: 0.0679 - val_loss: 0.1205 - val_mae: 0.1812 - val_mse: 0.1205\n",
      "Epoch 36/60\n",
      "63/63 [==============================] - 0s 4ms/step - loss: 0.1092 - mae: 0.1953 - mse: 0.1092 - val_loss: 0.2462 - val_mae: 0.2412 - val_mse: 0.2462\n",
      "Epoch 37/60\n",
      "63/63 [==============================] - 0s 4ms/step - loss: 0.0748 - mae: 0.1731 - mse: 0.0748 - val_loss: 0.7197 - val_mae: 0.2700 - val_mse: 0.7197\n",
      "Epoch 38/60\n",
      "63/63 [==============================] - 0s 4ms/step - loss: 0.0934 - mae: 0.1894 - mse: 0.0934 - val_loss: 0.2883 - val_mae: 0.2531 - val_mse: 0.2883\n",
      "Epoch 39/60\n",
      "63/63 [==============================] - 0s 4ms/step - loss: 0.0669 - mae: 0.1713 - mse: 0.0669 - val_loss: 0.0847 - val_mae: 0.1577 - val_mse: 0.0847\n",
      "Epoch 40/60\n",
      "63/63 [==============================] - 0s 4ms/step - loss: 0.0535 - mae: 0.1437 - mse: 0.0535 - val_loss: 0.0726 - val_mae: 0.1985 - val_mse: 0.0726\n",
      "Epoch 41/60\n",
      "63/63 [==============================] - 0s 4ms/step - loss: 0.0507 - mae: 0.1441 - mse: 0.0507 - val_loss: 0.1999 - val_mae: 0.2311 - val_mse: 0.1999\n",
      "Epoch 42/60\n",
      "63/63 [==============================] - 0s 4ms/step - loss: 0.0855 - mae: 0.1792 - mse: 0.0855 - val_loss: 0.2649 - val_mae: 0.2262 - val_mse: 0.2649\n",
      "Epoch 43/60\n",
      "63/63 [==============================] - 0s 4ms/step - loss: 0.0644 - mae: 0.1658 - mse: 0.0644 - val_loss: 0.2034 - val_mae: 0.2006 - val_mse: 0.2034\n",
      "Epoch 44/60\n",
      "63/63 [==============================] - 0s 4ms/step - loss: 0.0485 - mae: 0.1408 - mse: 0.0485 - val_loss: 0.0748 - val_mae: 0.1549 - val_mse: 0.0748\n",
      "Epoch 45/60\n",
      "63/63 [==============================] - 0s 4ms/step - loss: 0.0576 - mae: 0.1542 - mse: 0.0576 - val_loss: 0.0753 - val_mae: 0.1803 - val_mse: 0.0753\n",
      "Epoch 46/60\n",
      "63/63 [==============================] - 0s 4ms/step - loss: 0.7587 - mae: 0.4147 - mse: 0.7587 - val_loss: 1.2079 - val_mae: 0.5265 - val_mse: 1.2079\n",
      "Epoch 47/60\n",
      "63/63 [==============================] - 0s 4ms/step - loss: 0.9346 - mae: 0.5080 - mse: 0.9346 - val_loss: 1.7260 - val_mae: 0.6799 - val_mse: 1.7260\n",
      "Epoch 48/60\n",
      "63/63 [==============================] - 0s 4ms/step - loss: 0.9375 - mae: 0.5618 - mse: 0.9375 - val_loss: 1.1426 - val_mae: 0.5963 - val_mse: 1.1426\n",
      "Epoch 49/60\n",
      "63/63 [==============================] - 0s 4ms/step - loss: 0.7990 - mae: 0.5021 - mse: 0.7990 - val_loss: 0.8971 - val_mae: 0.4679 - val_mse: 0.8971\n",
      "Epoch 50/60\n",
      "63/63 [==============================] - 0s 4ms/step - loss: 0.6320 - mae: 0.4559 - mse: 0.6320 - val_loss: 0.9523 - val_mae: 0.5249 - val_mse: 0.9523\n",
      "Epoch 51/60\n",
      "63/63 [==============================] - 0s 4ms/step - loss: 0.5766 - mae: 0.4575 - mse: 0.5766 - val_loss: 0.9083 - val_mae: 0.6246 - val_mse: 0.9083\n",
      "Epoch 52/60\n",
      "63/63 [==============================] - 0s 4ms/step - loss: 0.3826 - mae: 0.3825 - mse: 0.3826 - val_loss: 0.5088 - val_mae: 0.3056 - val_mse: 0.5088\n",
      "Epoch 53/60\n",
      "63/63 [==============================] - 0s 4ms/step - loss: 0.3812 - mae: 0.3733 - mse: 0.3812 - val_loss: 0.3512 - val_mae: 0.2935 - val_mse: 0.3512\n",
      "Epoch 54/60\n",
      "63/63 [==============================] - 0s 4ms/step - loss: 0.2093 - mae: 0.2690 - mse: 0.2093 - val_loss: 0.3382 - val_mae: 0.2585 - val_mse: 0.3382\n",
      "Epoch 55/60\n",
      "63/63 [==============================] - 0s 4ms/step - loss: 0.2568 - mae: 0.3103 - mse: 0.2568 - val_loss: 0.5709 - val_mae: 0.3558 - val_mse: 0.5709\n",
      "Epoch 56/60\n",
      "63/63 [==============================] - 0s 4ms/step - loss: 0.1482 - mae: 0.2503 - mse: 0.1482 - val_loss: 0.2626 - val_mae: 0.2184 - val_mse: 0.2626\n",
      "Epoch 57/60\n",
      "63/63 [==============================] - 0s 4ms/step - loss: 0.1778 - mae: 0.2496 - mse: 0.1778 - val_loss: 0.2614 - val_mae: 0.2906 - val_mse: 0.2614\n",
      "Epoch 58/60\n",
      "63/63 [==============================] - 0s 4ms/step - loss: 0.1568 - mae: 0.2632 - mse: 0.1568 - val_loss: 0.4126 - val_mae: 0.2780 - val_mse: 0.4126\n",
      "Epoch 59/60\n",
      "63/63 [==============================] - 0s 4ms/step - loss: 0.1798 - mae: 0.2417 - mse: 0.1798 - val_loss: 0.1872 - val_mae: 0.2035 - val_mse: 0.1872\n",
      "Epoch 60/60\n",
      "63/63 [==============================] - 0s 4ms/step - loss: 0.1869 - mae: 0.2505 - mse: 0.1869 - val_loss: 0.4508 - val_mae: 0.2712 - val_mse: 0.4508\n"
     ]
    }
   ],
   "source": [
    "history = model.fit(x_train,\n",
    "                    y_train,\n",
    "                    epochs          = 60,\n",
    "                    batch_size      = 10,\n",
    "                    verbose         = fit_verbosity,\n",
    "                    validation_data = (x_test, y_test))"
   ]
  },
  {
   "cell_type": "markdown",
   "metadata": {
    "tags": []
   },
   "source": [
    "## Step 6 - Evaluate\n",
    "### 6.1 - Model evaluation\n",
    "MAE =  Mean Absolute Error (between the labels and predictions)  \n",
    "A mae equal to 3 represents an average error in prediction of $3k."
   ]
  },
  {
   "cell_type": "code",
   "execution_count": 9,
   "metadata": {},
   "outputs": [
    {
     "name": "stdout",
     "output_type": "stream",
     "text": [
      "x_test / loss      : 0.4508\n",
      "x_test / mae       : 0.2712\n",
      "x_test / mse       : 0.4508\n"
     ]
    }
   ],
   "source": [
    "score = model.evaluate(x_test, y_test, verbose=0)\n",
    "\n",
    "print('x_test / loss      : {:5.4f}'.format(score[0]))\n",
    "print('x_test / mae       : {:5.4f}'.format(score[1]))\n",
    "print('x_test / mse       : {:5.4f}'.format(score[2]))"
   ]
  },
  {
   "cell_type": "markdown",
   "metadata": {},
   "source": [
    "### 6.2 - Training history\n",
    "What was the best result during our training ?"
   ]
  },
  {
   "cell_type": "code",
   "execution_count": 10,
   "metadata": {},
   "outputs": [],
   "source": [
    "df=pd.DataFrame(data=history.history)\n",
    "# display(df)"
   ]
  },
  {
   "cell_type": "code",
   "execution_count": 11,
   "metadata": {},
   "outputs": [
    {
     "name": "stdout",
     "output_type": "stream",
     "text": [
      "min( val_mae ) : 0.1506\n"
     ]
    }
   ],
   "source": [
    "print(\"min( val_mae ) : {:.4f}\".format( min(history.history[\"val_mae\"]) ) )"
   ]
  },
  {
   "cell_type": "code",
   "execution_count": 12,
   "metadata": {},
   "outputs": [],
   "source": [
    "# pwk.plot_history(history, plot={'MSE' :['mse', 'val_mse'],\n",
    "#                                 'MAE' :['mae', 'val_mae'],\n",
    "#                                 'LOSS':['loss','val_loss']}, save_as='01-history')"
   ]
  },
  {
   "cell_type": "markdown",
   "metadata": {},
   "source": [
    "## Step 7 - Make a prediction\n",
    "The data must be normalized with the parameters (mean, std) previously used."
   ]
  },
  {
   "cell_type": "code",
   "execution_count": 13,
   "metadata": {},
   "outputs": [],
   "source": [
    "new_data = Block.all[\"2015BD\"].to_ai_ready()[:-4]\n",
    "\n",
    "new_data = (new_data - mean) / std\n",
    "\n",
    "new_data=np.array(new_data).reshape(1,len(new_data))"
   ]
  },
  {
   "cell_type": "code",
   "execution_count": 14,
   "metadata": {},
   "outputs": [
    {
     "name": "stdout",
     "output_type": "stream",
     "text": [
      "1/1 [==============================] - 0s 80ms/step\n",
      "[[ 0.8534107 25.366795   0.2166903  1.0362821]]\n"
     ]
    },
    {
     "data": {
      "image/png": "[encoded data removed]",
      "text/plain": [
       "<Figure size 432x288 with 1 Axes>"
      ]
     },
     "metadata": {
      "needs_background": "light"
     },
     "output_type": "display_data"
    }
   ],
   "source": [
    "\n",
    "predictions = model.predict( new_data )\n",
    "print(predictions)\n",
    "\n",
    "def ft(m,a,b,c,d):\n",
    "    return a/4 * (1-np.tanh((m-b)/c)) * (1-np.tanh((m-b)/d))\n",
    "\n",
    "def fs(m,a,b,c,d):\n",
    "    return (a-b*(m-21)**2) / (1+np.exp((m-c)/d))\n",
    "\n",
    "m = np.linspace(21,25.5,1000)\n",
    "plt.plot(m,ft(m,*predictions[0]), label=\"Machine Learning\")\n",
    "plt.plot(m,fs(m,0.930487275,9.34686325E-03,25.1766472,0.171281680), label=\"Excpected\")\n",
    "plt.grid()\n",
    "plt.legend()\n",
    "plt.title(\"TNO efficiency rate\")\n",
    "plt.xlabel(\"Magnitude\")\n",
    "plt.ylabel(\"Efficiency\")\n",
    "plt.show()"
   ]
  }
 ],
 "metadata": {
  "interpreter": {
   "hash": "ca39f88a2d38a95affbacc4b81fd00a2dd957c0206b925676ce258144ab36f3b"
  },
  "kernelspec": {
   "display_name": "Python 3.10.4 64-bit",
   "language": "python",
   "name": "python3"
  },
  "language_info": {
   "codemirror_mode": {
    "name": "ipython",
    "version": 3
   },
   "file_extension": ".py",
   "mimetype": "text/x-python",
   "name": "python",
   "nbconvert_exporter": "python",
   "pygments_lexer": "ipython3",
   "version": "3.10.4"
  }
 },
 "nbformat": 4,
 "nbformat_minor": 4
}
